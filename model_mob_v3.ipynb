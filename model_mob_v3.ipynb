{
  "nbformat": 4,
  "nbformat_minor": 0,
  "metadata": {
    "colab": {
      "name": "model_mob_v3.ipynb",
      "provenance": []
    },
    "kernelspec": {
      "name": "python3",
      "display_name": "Python 3"
    }
  },
  "cells": [
    {
      "cell_type": "markdown",
      "metadata": {
        "id": "sBIVO2G93S-5",
        "colab_type": "text"
      },
      "source": [
        "# LSTM Prediction Model w/ Mobility Reports"
      ]
    },
    {
      "cell_type": "markdown",
      "metadata": {
        "id": "fRtg_vln3bMa",
        "colab_type": "text"
      },
      "source": [
        "## Set-Up and Data Upload"
      ]
    },
    {
      "cell_type": "code",
      "metadata": {
        "id": "0iU5CGC83GTt",
        "colab_type": "code",
        "colab": {
          "base_uri": "https://localhost:8080/",
          "height": 34
        },
        "outputId": "8845c768-516a-4af8-ff04-84abc0ba0b8d"
      },
      "source": [
        "from google.colab import drive\n",
        "drive.mount('/content/drive')"
      ],
      "execution_count": 1,
      "outputs": [
        {
          "output_type": "stream",
          "text": [
            "Drive already mounted at /content/drive; to attempt to forcibly remount, call drive.mount(\"/content/drive\", force_remount=True).\n"
          ],
          "name": "stdout"
        }
      ]
    },
    {
      "cell_type": "code",
      "metadata": {
        "id": "p8ypIBg93Odf",
        "colab_type": "code",
        "colab": {
          "base_uri": "https://localhost:8080/",
          "height": 34
        },
        "outputId": "f48c9cb5-2043-4c57-eada-6fcc103c2348"
      },
      "source": [
        "%cd drive/My Drive/Colab Notebooks/Models/data"
      ],
      "execution_count": 2,
      "outputs": [
        {
          "output_type": "stream",
          "text": [
            "/content/drive/My Drive/Colab Notebooks/Models/data\n"
          ],
          "name": "stdout"
        }
      ]
    },
    {
      "cell_type": "code",
      "metadata": {
        "id": "_tbunTmz1dcT",
        "colab_type": "code",
        "colab": {
          "base_uri": "https://localhost:8080/",
          "height": 71
        },
        "outputId": "be223173-4a8c-4ef3-99b5-150cbf1fccce"
      },
      "source": [
        "import torch\n",
        "import os\n",
        "import numpy as np\n",
        "import pandas as pd\n",
        "from tqdm import tqdm\n",
        "import seaborn as sns\n",
        "from pylab import rcParams\n",
        "import matplotlib.pyplot as plt\n",
        "from matplotlib import rc\n",
        "from sklearn.preprocessing import MinMaxScaler\n",
        "from pandas.plotting import register_matplotlib_converters\n",
        "from torch import nn, optim\n",
        "%matplotlib inline"
      ],
      "execution_count": 3,
      "outputs": [
        {
          "output_type": "stream",
          "text": [
            "/usr/local/lib/python3.6/dist-packages/statsmodels/tools/_testing.py:19: FutureWarning: pandas.util.testing is deprecated. Use the functions in the public API at pandas.testing instead.\n",
            "  import pandas.util.testing as tm\n"
          ],
          "name": "stderr"
        }
      ]
    },
    {
      "cell_type": "code",
      "metadata": {
        "id": "6rh66flG3Rub",
        "colab_type": "code",
        "colab": {
          "base_uri": "https://localhost:8080/",
          "height": 71
        },
        "outputId": "86532d35-9756-46a7-ea49-d41d9f4ff4c3"
      },
      "source": [
        "global_mobility = pd.read_csv(\"Global_Mobility_Report.csv\")"
      ],
      "execution_count": 4,
      "outputs": [
        {
          "output_type": "stream",
          "text": [
            "/usr/local/lib/python3.6/dist-packages/IPython/core/interactiveshell.py:2718: DtypeWarning: Columns (3) have mixed types.Specify dtype option on import or set low_memory=False.\n",
            "  interactivity=interactivity, compiler=compiler, result=result)\n"
          ],
          "name": "stderr"
        }
      ]
    },
    {
      "cell_type": "code",
      "metadata": {
        "id": "4Fp9O-Pd3R0l",
        "colab_type": "code",
        "colab": {}
      },
      "source": [
        "os.chdir(\"COVID-19-master/csse_covid_19_data/csse_covid_19_time_series\")"
      ],
      "execution_count": 5,
      "outputs": []
    },
    {
      "cell_type": "code",
      "metadata": {
        "id": "SROJGWE84T30",
        "colab_type": "code",
        "colab": {}
      },
      "source": [
        "confirmed_cases = pd.read_csv(\"time_series_covid19_confirmed_US.csv\")"
      ],
      "execution_count": 6,
      "outputs": []
    },
    {
      "cell_type": "markdown",
      "metadata": {
        "id": "x9k4cnrm4p6T",
        "colab_type": "text"
      },
      "source": [
        "## Cleaning "
      ]
    },
    {
      "cell_type": "markdown",
      "metadata": {
        "id": "1m_xTvu57XK_",
        "colab_type": "text"
      },
      "source": [
        "### Mobility"
      ]
    },
    {
      "cell_type": "code",
      "metadata": {
        "id": "ddTZ35dh7k0O",
        "colab_type": "code",
        "colab": {
          "base_uri": "https://localhost:8080/",
          "height": 213
        },
        "outputId": "b6e064d6-dea1-425f-e330-cb57e6c1ff16"
      },
      "source": [
        "us_mobility = global_mobility.loc[ (global_mobility.country_region_code=='US') ]\n",
        "us_mobility.reset_index(drop=True, inplace=True)\n",
        "us_mobility.head(3)"
      ],
      "execution_count": 7,
      "outputs": [
        {
          "output_type": "execute_result",
          "data": {
            "text/html": [
              "<div>\n",
              "<style scoped>\n",
              "    .dataframe tbody tr th:only-of-type {\n",
              "        vertical-align: middle;\n",
              "    }\n",
              "\n",
              "    .dataframe tbody tr th {\n",
              "        vertical-align: top;\n",
              "    }\n",
              "\n",
              "    .dataframe thead th {\n",
              "        text-align: right;\n",
              "    }\n",
              "</style>\n",
              "<table border=\"1\" class=\"dataframe\">\n",
              "  <thead>\n",
              "    <tr style=\"text-align: right;\">\n",
              "      <th></th>\n",
              "      <th>country_region_code</th>\n",
              "      <th>country_region</th>\n",
              "      <th>sub_region_1</th>\n",
              "      <th>sub_region_2</th>\n",
              "      <th>iso_3166_2_code</th>\n",
              "      <th>census_fips_code</th>\n",
              "      <th>date</th>\n",
              "      <th>retail_and_recreation_percent_change_from_baseline</th>\n",
              "      <th>grocery_and_pharmacy_percent_change_from_baseline</th>\n",
              "      <th>parks_percent_change_from_baseline</th>\n",
              "      <th>transit_stations_percent_change_from_baseline</th>\n",
              "      <th>workplaces_percent_change_from_baseline</th>\n",
              "      <th>residential_percent_change_from_baseline</th>\n",
              "    </tr>\n",
              "  </thead>\n",
              "  <tbody>\n",
              "    <tr>\n",
              "      <th>0</th>\n",
              "      <td>US</td>\n",
              "      <td>United States</td>\n",
              "      <td>NaN</td>\n",
              "      <td>NaN</td>\n",
              "      <td>NaN</td>\n",
              "      <td>NaN</td>\n",
              "      <td>2020-02-15</td>\n",
              "      <td>6.0</td>\n",
              "      <td>2.0</td>\n",
              "      <td>15.0</td>\n",
              "      <td>3.0</td>\n",
              "      <td>2.0</td>\n",
              "      <td>-1.0</td>\n",
              "    </tr>\n",
              "    <tr>\n",
              "      <th>1</th>\n",
              "      <td>US</td>\n",
              "      <td>United States</td>\n",
              "      <td>NaN</td>\n",
              "      <td>NaN</td>\n",
              "      <td>NaN</td>\n",
              "      <td>NaN</td>\n",
              "      <td>2020-02-16</td>\n",
              "      <td>7.0</td>\n",
              "      <td>1.0</td>\n",
              "      <td>16.0</td>\n",
              "      <td>2.0</td>\n",
              "      <td>0.0</td>\n",
              "      <td>-1.0</td>\n",
              "    </tr>\n",
              "    <tr>\n",
              "      <th>2</th>\n",
              "      <td>US</td>\n",
              "      <td>United States</td>\n",
              "      <td>NaN</td>\n",
              "      <td>NaN</td>\n",
              "      <td>NaN</td>\n",
              "      <td>NaN</td>\n",
              "      <td>2020-02-17</td>\n",
              "      <td>6.0</td>\n",
              "      <td>0.0</td>\n",
              "      <td>28.0</td>\n",
              "      <td>-9.0</td>\n",
              "      <td>-24.0</td>\n",
              "      <td>5.0</td>\n",
              "    </tr>\n",
              "  </tbody>\n",
              "</table>\n",
              "</div>"
            ],
            "text/plain": [
              "  country_region_code  ... residential_percent_change_from_baseline\n",
              "0                  US  ...                                     -1.0\n",
              "1                  US  ...                                     -1.0\n",
              "2                  US  ...                                      5.0\n",
              "\n",
              "[3 rows x 13 columns]"
            ]
          },
          "metadata": {
            "tags": []
          },
          "execution_count": 7
        }
      ]
    },
    {
      "cell_type": "code",
      "metadata": {
        "id": "ViToGGX49tEY",
        "colab_type": "code",
        "colab": {
          "base_uri": "https://localhost:8080/",
          "height": 34
        },
        "outputId": "aa7642fc-9ec9-4cb9-d12e-8a75c261c8e7"
      },
      "source": [
        "us_mobility.shape"
      ],
      "execution_count": 8,
      "outputs": [
        {
          "output_type": "execute_result",
          "data": {
            "text/plain": [
              "(414461, 13)"
            ]
          },
          "metadata": {
            "tags": []
          },
          "execution_count": 8
        }
      ]
    },
    {
      "cell_type": "markdown",
      "metadata": {
        "id": "7QCx_iN-7Z6x",
        "colab_type": "text"
      },
      "source": [
        "### Cases"
      ]
    },
    {
      "cell_type": "code",
      "metadata": {
        "id": "e0XFI6ht-p44",
        "colab_type": "code",
        "colab": {
          "base_uri": "https://localhost:8080/",
          "height": 34
        },
        "outputId": "ca0a3ae8-cae6-44a3-8c42-c53ee3ec1b9f"
      },
      "source": [
        "confirmed_cases.shape"
      ],
      "execution_count": 9,
      "outputs": [
        {
          "output_type": "execute_result",
          "data": {
            "text/plain": [
              "(3340, 194)"
            ]
          },
          "metadata": {
            "tags": []
          },
          "execution_count": 9
        }
      ]
    },
    {
      "cell_type": "code",
      "metadata": {
        "id": "44eYqx33--4q",
        "colab_type": "code",
        "colab": {}
      },
      "source": [
        "confirmed_cases.loc[ (confirmed_cases.Province_State=='American Samoa'), 'Admin2' ] = 'American Samoa'\n",
        "confirmed_cases.loc[ (confirmed_cases.Province_State=='Guam'), 'Admin2' ] = 'Guam'\n",
        "confirmed_cases.loc[ (confirmed_cases.Province_State=='Northern Mariana Islands'), 'Admin2' ] = 'Northern Mariana Islands'\n",
        "confirmed_cases.loc[ (confirmed_cases.Province_State=='Virgin Islands'), 'Admin2' ] = 'Virgin Islands'\n",
        "confirmed_cases.loc[ (confirmed_cases.Province_State=='Diamond Princess'), 'Admin2' ] = 'Diamond Princess'\n",
        "confirmed_cases.loc[ (confirmed_cases.Province_State=='Grand Princess'), 'Admin2' ] = 'Grand Princess'"
      ],
      "execution_count": 10,
      "outputs": []
    },
    {
      "cell_type": "code",
      "metadata": {
        "id": "jRiQDKXzAGNM",
        "colab_type": "code",
        "colab": {}
      },
      "source": [
        "confirmed_cases.loc[ (confirmed_cases.Admin2=='Dukes and Nantucket'), 'FIPS' ] = 25007\n",
        "confirmed_cases.loc[ (confirmed_cases.Admin2=='Kansas City'), 'FIPS' ] = 29095"
      ],
      "execution_count": 11,
      "outputs": []
    },
    {
      "cell_type": "code",
      "metadata": {
        "id": "V-UgGjMV-0jo",
        "colab_type": "code",
        "colab": {}
      },
      "source": [
        "confirmed_cases.dropna(inplace=True)"
      ],
      "execution_count": 12,
      "outputs": []
    },
    {
      "cell_type": "code",
      "metadata": {
        "id": "c2xvfmXs-uzS",
        "colab_type": "code",
        "colab": {
          "base_uri": "https://localhost:8080/",
          "height": 34
        },
        "outputId": "0364e945-98e0-40c4-e2f4-ae52e2dd5301"
      },
      "source": [
        "confirmed_cases.isnull().sum().sum()"
      ],
      "execution_count": 13,
      "outputs": [
        {
          "output_type": "execute_result",
          "data": {
            "text/plain": [
              "0"
            ]
          },
          "metadata": {
            "tags": []
          },
          "execution_count": 13
        }
      ]
    },
    {
      "cell_type": "code",
      "metadata": {
        "id": "TQ8LlECnDX56",
        "colab_type": "code",
        "colab": {}
      },
      "source": [
        "cases_groups = confirmed_cases.groupby(['Province_State'])"
      ],
      "execution_count": 14,
      "outputs": []
    },
    {
      "cell_type": "markdown",
      "metadata": {
        "id": "d3znleOW-cib",
        "colab_type": "text"
      },
      "source": [
        "## Model Without Mobility"
      ]
    },
    {
      "cell_type": "code",
      "metadata": {
        "id": "hzBSY7he-g-M",
        "colab_type": "code",
        "colab": {}
      },
      "source": [
        "## pass in a pandas group dataframe\n",
        "def get_state_df(base_df, state):\n",
        "  temp = base_df.get_group(state)\n",
        "  return temp"
      ],
      "execution_count": 15,
      "outputs": []
    },
    {
      "cell_type": "code",
      "metadata": {
        "id": "qj15b3BRFDCj",
        "colab_type": "code",
        "colab": {}
      },
      "source": [
        "def get_county_df(base_df, county):\n",
        "  temp = base_df.loc[(base_df.Admin2==county)]\n",
        "  return temp"
      ],
      "execution_count": 16,
      "outputs": []
    },
    {
      "cell_type": "code",
      "metadata": {
        "id": "0hk6IfG1MZJ8",
        "colab_type": "code",
        "colab": {}
      },
      "source": [
        "state = 'New Jersey'\n",
        "county = 'Essex'"
      ],
      "execution_count": 30,
      "outputs": []
    },
    {
      "cell_type": "code",
      "metadata": {
        "id": "em3bxqdCG8h_",
        "colab_type": "code",
        "colab": {
          "base_uri": "https://localhost:8080/",
          "height": 146
        },
        "outputId": "7f2532bc-98fc-4f8b-bf88-fa046331b098"
      },
      "source": [
        "nj_cases = get_state_df(cases_groups, state)\n",
        "cases = get_county_df(nj_cases, county)\n",
        "cases"
      ],
      "execution_count": 18,
      "outputs": [
        {
          "output_type": "execute_result",
          "data": {
            "text/html": [
              "<div>\n",
              "<style scoped>\n",
              "    .dataframe tbody tr th:only-of-type {\n",
              "        vertical-align: middle;\n",
              "    }\n",
              "\n",
              "    .dataframe tbody tr th {\n",
              "        vertical-align: top;\n",
              "    }\n",
              "\n",
              "    .dataframe thead th {\n",
              "        text-align: right;\n",
              "    }\n",
              "</style>\n",
              "<table border=\"1\" class=\"dataframe\">\n",
              "  <thead>\n",
              "    <tr style=\"text-align: right;\">\n",
              "      <th></th>\n",
              "      <th>UID</th>\n",
              "      <th>iso2</th>\n",
              "      <th>iso3</th>\n",
              "      <th>code3</th>\n",
              "      <th>FIPS</th>\n",
              "      <th>Admin2</th>\n",
              "      <th>Province_State</th>\n",
              "      <th>Country_Region</th>\n",
              "      <th>Lat</th>\n",
              "      <th>Long_</th>\n",
              "      <th>Combined_Key</th>\n",
              "      <th>1/22/20</th>\n",
              "      <th>1/23/20</th>\n",
              "      <th>1/24/20</th>\n",
              "      <th>1/25/20</th>\n",
              "      <th>1/26/20</th>\n",
              "      <th>1/27/20</th>\n",
              "      <th>1/28/20</th>\n",
              "      <th>1/29/20</th>\n",
              "      <th>1/30/20</th>\n",
              "      <th>1/31/20</th>\n",
              "      <th>2/1/20</th>\n",
              "      <th>2/2/20</th>\n",
              "      <th>2/3/20</th>\n",
              "      <th>2/4/20</th>\n",
              "      <th>2/5/20</th>\n",
              "      <th>2/6/20</th>\n",
              "      <th>2/7/20</th>\n",
              "      <th>2/8/20</th>\n",
              "      <th>2/9/20</th>\n",
              "      <th>2/10/20</th>\n",
              "      <th>2/11/20</th>\n",
              "      <th>2/12/20</th>\n",
              "      <th>2/13/20</th>\n",
              "      <th>2/14/20</th>\n",
              "      <th>2/15/20</th>\n",
              "      <th>2/16/20</th>\n",
              "      <th>2/17/20</th>\n",
              "      <th>2/18/20</th>\n",
              "      <th>2/19/20</th>\n",
              "      <th>...</th>\n",
              "      <th>6/13/20</th>\n",
              "      <th>6/14/20</th>\n",
              "      <th>6/15/20</th>\n",
              "      <th>6/16/20</th>\n",
              "      <th>6/17/20</th>\n",
              "      <th>6/18/20</th>\n",
              "      <th>6/19/20</th>\n",
              "      <th>6/20/20</th>\n",
              "      <th>6/21/20</th>\n",
              "      <th>6/22/20</th>\n",
              "      <th>6/23/20</th>\n",
              "      <th>6/24/20</th>\n",
              "      <th>6/25/20</th>\n",
              "      <th>6/26/20</th>\n",
              "      <th>6/27/20</th>\n",
              "      <th>6/28/20</th>\n",
              "      <th>6/29/20</th>\n",
              "      <th>6/30/20</th>\n",
              "      <th>7/1/20</th>\n",
              "      <th>7/2/20</th>\n",
              "      <th>7/3/20</th>\n",
              "      <th>7/4/20</th>\n",
              "      <th>7/5/20</th>\n",
              "      <th>7/6/20</th>\n",
              "      <th>7/7/20</th>\n",
              "      <th>7/8/20</th>\n",
              "      <th>7/9/20</th>\n",
              "      <th>7/10/20</th>\n",
              "      <th>7/11/20</th>\n",
              "      <th>7/12/20</th>\n",
              "      <th>7/13/20</th>\n",
              "      <th>7/14/20</th>\n",
              "      <th>7/15/20</th>\n",
              "      <th>7/16/20</th>\n",
              "      <th>7/17/20</th>\n",
              "      <th>7/18/20</th>\n",
              "      <th>7/19/20</th>\n",
              "      <th>7/20/20</th>\n",
              "      <th>7/21/20</th>\n",
              "      <th>7/22/20</th>\n",
              "    </tr>\n",
              "  </thead>\n",
              "  <tbody>\n",
              "    <tr>\n",
              "      <th>1862</th>\n",
              "      <td>84034013</td>\n",
              "      <td>US</td>\n",
              "      <td>USA</td>\n",
              "      <td>840</td>\n",
              "      <td>34013.0</td>\n",
              "      <td>Essex</td>\n",
              "      <td>New Jersey</td>\n",
              "      <td>US</td>\n",
              "      <td>40.786813</td>\n",
              "      <td>-74.24658</td>\n",
              "      <td>Essex, New Jersey, US</td>\n",
              "      <td>0</td>\n",
              "      <td>0</td>\n",
              "      <td>0</td>\n",
              "      <td>0</td>\n",
              "      <td>0</td>\n",
              "      <td>0</td>\n",
              "      <td>0</td>\n",
              "      <td>0</td>\n",
              "      <td>0</td>\n",
              "      <td>0</td>\n",
              "      <td>0</td>\n",
              "      <td>0</td>\n",
              "      <td>0</td>\n",
              "      <td>0</td>\n",
              "      <td>0</td>\n",
              "      <td>0</td>\n",
              "      <td>0</td>\n",
              "      <td>0</td>\n",
              "      <td>0</td>\n",
              "      <td>0</td>\n",
              "      <td>0</td>\n",
              "      <td>0</td>\n",
              "      <td>0</td>\n",
              "      <td>0</td>\n",
              "      <td>0</td>\n",
              "      <td>0</td>\n",
              "      <td>0</td>\n",
              "      <td>0</td>\n",
              "      <td>0</td>\n",
              "      <td>...</td>\n",
              "      <td>18336</td>\n",
              "      <td>18364</td>\n",
              "      <td>18375</td>\n",
              "      <td>18388</td>\n",
              "      <td>18421</td>\n",
              "      <td>18499</td>\n",
              "      <td>18533</td>\n",
              "      <td>18531</td>\n",
              "      <td>18551</td>\n",
              "      <td>18578</td>\n",
              "      <td>18592</td>\n",
              "      <td>18617</td>\n",
              "      <td>18637</td>\n",
              "      <td>18666</td>\n",
              "      <td>18696</td>\n",
              "      <td>18716</td>\n",
              "      <td>18731</td>\n",
              "      <td>18758</td>\n",
              "      <td>18771</td>\n",
              "      <td>18804</td>\n",
              "      <td>18842</td>\n",
              "      <td>18859</td>\n",
              "      <td>18887</td>\n",
              "      <td>18895</td>\n",
              "      <td>18918</td>\n",
              "      <td>18920</td>\n",
              "      <td>18928</td>\n",
              "      <td>18954</td>\n",
              "      <td>18988</td>\n",
              "      <td>19008</td>\n",
              "      <td>19039</td>\n",
              "      <td>19058</td>\n",
              "      <td>19100</td>\n",
              "      <td>19119</td>\n",
              "      <td>19111</td>\n",
              "      <td>19105</td>\n",
              "      <td>19105</td>\n",
              "      <td>19121</td>\n",
              "      <td>19153</td>\n",
              "      <td>19173</td>\n",
              "    </tr>\n",
              "  </tbody>\n",
              "</table>\n",
              "<p>1 rows × 194 columns</p>\n",
              "</div>"
            ],
            "text/plain": [
              "           UID iso2 iso3  code3  ...  7/19/20 7/20/20 7/21/20 7/22/20\n",
              "1862  84034013   US  USA    840  ...    19105   19121   19153   19173\n",
              "\n",
              "[1 rows x 194 columns]"
            ]
          },
          "metadata": {
            "tags": []
          },
          "execution_count": 18
        }
      ]
    },
    {
      "cell_type": "code",
      "metadata": {
        "id": "03IbeTp3I8Ae",
        "colab_type": "code",
        "colab": {
          "base_uri": "https://localhost:8080/",
          "height": 129
        },
        "outputId": "8f51fb47-5472-4fa4-aba0-c2656b2e3eaf"
      },
      "source": [
        "## only include date and number of cases\n",
        "cases = cases.iloc[:, 11:]\n",
        "cases"
      ],
      "execution_count": 17,
      "outputs": [
        {
          "output_type": "execute_result",
          "data": {
            "text/html": [
              "<div>\n",
              "<style scoped>\n",
              "    .dataframe tbody tr th:only-of-type {\n",
              "        vertical-align: middle;\n",
              "    }\n",
              "\n",
              "    .dataframe tbody tr th {\n",
              "        vertical-align: top;\n",
              "    }\n",
              "\n",
              "    .dataframe thead th {\n",
              "        text-align: right;\n",
              "    }\n",
              "</style>\n",
              "<table border=\"1\" class=\"dataframe\">\n",
              "  <thead>\n",
              "    <tr style=\"text-align: right;\">\n",
              "      <th></th>\n",
              "      <th>1/22/20</th>\n",
              "      <th>1/23/20</th>\n",
              "      <th>1/24/20</th>\n",
              "      <th>1/25/20</th>\n",
              "      <th>1/26/20</th>\n",
              "      <th>1/27/20</th>\n",
              "      <th>1/28/20</th>\n",
              "      <th>1/29/20</th>\n",
              "      <th>1/30/20</th>\n",
              "      <th>1/31/20</th>\n",
              "      <th>2/1/20</th>\n",
              "      <th>2/2/20</th>\n",
              "      <th>2/3/20</th>\n",
              "      <th>2/4/20</th>\n",
              "      <th>2/5/20</th>\n",
              "      <th>2/6/20</th>\n",
              "      <th>2/7/20</th>\n",
              "      <th>2/8/20</th>\n",
              "      <th>2/9/20</th>\n",
              "      <th>2/10/20</th>\n",
              "      <th>2/11/20</th>\n",
              "      <th>2/12/20</th>\n",
              "      <th>2/13/20</th>\n",
              "      <th>2/14/20</th>\n",
              "      <th>2/15/20</th>\n",
              "      <th>2/16/20</th>\n",
              "      <th>2/17/20</th>\n",
              "      <th>2/18/20</th>\n",
              "      <th>2/19/20</th>\n",
              "      <th>2/20/20</th>\n",
              "      <th>2/21/20</th>\n",
              "      <th>2/22/20</th>\n",
              "      <th>2/23/20</th>\n",
              "      <th>2/24/20</th>\n",
              "      <th>2/25/20</th>\n",
              "      <th>2/26/20</th>\n",
              "      <th>2/27/20</th>\n",
              "      <th>2/28/20</th>\n",
              "      <th>2/29/20</th>\n",
              "      <th>3/1/20</th>\n",
              "      <th>...</th>\n",
              "      <th>6/13/20</th>\n",
              "      <th>6/14/20</th>\n",
              "      <th>6/15/20</th>\n",
              "      <th>6/16/20</th>\n",
              "      <th>6/17/20</th>\n",
              "      <th>6/18/20</th>\n",
              "      <th>6/19/20</th>\n",
              "      <th>6/20/20</th>\n",
              "      <th>6/21/20</th>\n",
              "      <th>6/22/20</th>\n",
              "      <th>6/23/20</th>\n",
              "      <th>6/24/20</th>\n",
              "      <th>6/25/20</th>\n",
              "      <th>6/26/20</th>\n",
              "      <th>6/27/20</th>\n",
              "      <th>6/28/20</th>\n",
              "      <th>6/29/20</th>\n",
              "      <th>6/30/20</th>\n",
              "      <th>7/1/20</th>\n",
              "      <th>7/2/20</th>\n",
              "      <th>7/3/20</th>\n",
              "      <th>7/4/20</th>\n",
              "      <th>7/5/20</th>\n",
              "      <th>7/6/20</th>\n",
              "      <th>7/7/20</th>\n",
              "      <th>7/8/20</th>\n",
              "      <th>7/9/20</th>\n",
              "      <th>7/10/20</th>\n",
              "      <th>7/11/20</th>\n",
              "      <th>7/12/20</th>\n",
              "      <th>7/13/20</th>\n",
              "      <th>7/14/20</th>\n",
              "      <th>7/15/20</th>\n",
              "      <th>7/16/20</th>\n",
              "      <th>7/17/20</th>\n",
              "      <th>7/18/20</th>\n",
              "      <th>7/19/20</th>\n",
              "      <th>7/20/20</th>\n",
              "      <th>7/21/20</th>\n",
              "      <th>7/22/20</th>\n",
              "    </tr>\n",
              "  </thead>\n",
              "  <tbody>\n",
              "    <tr>\n",
              "      <th>1862</th>\n",
              "      <td>0</td>\n",
              "      <td>0</td>\n",
              "      <td>0</td>\n",
              "      <td>0</td>\n",
              "      <td>0</td>\n",
              "      <td>0</td>\n",
              "      <td>0</td>\n",
              "      <td>0</td>\n",
              "      <td>0</td>\n",
              "      <td>0</td>\n",
              "      <td>0</td>\n",
              "      <td>0</td>\n",
              "      <td>0</td>\n",
              "      <td>0</td>\n",
              "      <td>0</td>\n",
              "      <td>0</td>\n",
              "      <td>0</td>\n",
              "      <td>0</td>\n",
              "      <td>0</td>\n",
              "      <td>0</td>\n",
              "      <td>0</td>\n",
              "      <td>0</td>\n",
              "      <td>0</td>\n",
              "      <td>0</td>\n",
              "      <td>0</td>\n",
              "      <td>0</td>\n",
              "      <td>0</td>\n",
              "      <td>0</td>\n",
              "      <td>0</td>\n",
              "      <td>0</td>\n",
              "      <td>0</td>\n",
              "      <td>0</td>\n",
              "      <td>0</td>\n",
              "      <td>0</td>\n",
              "      <td>0</td>\n",
              "      <td>0</td>\n",
              "      <td>0</td>\n",
              "      <td>0</td>\n",
              "      <td>0</td>\n",
              "      <td>0</td>\n",
              "      <td>...</td>\n",
              "      <td>18336</td>\n",
              "      <td>18364</td>\n",
              "      <td>18375</td>\n",
              "      <td>18388</td>\n",
              "      <td>18421</td>\n",
              "      <td>18499</td>\n",
              "      <td>18533</td>\n",
              "      <td>18531</td>\n",
              "      <td>18551</td>\n",
              "      <td>18578</td>\n",
              "      <td>18592</td>\n",
              "      <td>18617</td>\n",
              "      <td>18637</td>\n",
              "      <td>18666</td>\n",
              "      <td>18696</td>\n",
              "      <td>18716</td>\n",
              "      <td>18731</td>\n",
              "      <td>18758</td>\n",
              "      <td>18771</td>\n",
              "      <td>18804</td>\n",
              "      <td>18842</td>\n",
              "      <td>18859</td>\n",
              "      <td>18887</td>\n",
              "      <td>18895</td>\n",
              "      <td>18918</td>\n",
              "      <td>18920</td>\n",
              "      <td>18928</td>\n",
              "      <td>18954</td>\n",
              "      <td>18988</td>\n",
              "      <td>19008</td>\n",
              "      <td>19039</td>\n",
              "      <td>19058</td>\n",
              "      <td>19100</td>\n",
              "      <td>19119</td>\n",
              "      <td>19111</td>\n",
              "      <td>19105</td>\n",
              "      <td>19105</td>\n",
              "      <td>19121</td>\n",
              "      <td>19153</td>\n",
              "      <td>19173</td>\n",
              "    </tr>\n",
              "  </tbody>\n",
              "</table>\n",
              "<p>1 rows × 183 columns</p>\n",
              "</div>"
            ],
            "text/plain": [
              "      1/22/20  1/23/20  1/24/20  1/25/20  ...  7/19/20  7/20/20  7/21/20  7/22/20\n",
              "1862        0        0        0        0  ...    19105    19121    19153    19173\n",
              "\n",
              "[1 rows x 183 columns]"
            ]
          },
          "metadata": {
            "tags": []
          },
          "execution_count": 17
        }
      ]
    },
    {
      "cell_type": "code",
      "metadata": {
        "id": "z-npxvm8JrB0",
        "colab_type": "code",
        "colab": {}
      },
      "source": [
        "cases = cases.T"
      ],
      "execution_count": 18,
      "outputs": []
    },
    {
      "cell_type": "code",
      "metadata": {
        "id": "e8T6qFRYK-Lc",
        "colab_type": "code",
        "colab": {}
      },
      "source": [
        "cases.rename(columns={1862: 'confirmed'}, inplace=True)"
      ],
      "execution_count": 19,
      "outputs": []
    },
    {
      "cell_type": "code",
      "metadata": {
        "id": "kkTQMY1XMEXO",
        "colab_type": "code",
        "colab": {
          "base_uri": "https://localhost:8080/",
          "height": 142
        },
        "outputId": "d09c6a1d-792c-4374-b458-a0ccd26347bf"
      },
      "source": [
        "cases.index = pd.to_datetime(cases.index)\n",
        "cases.head(3)"
      ],
      "execution_count": 20,
      "outputs": [
        {
          "output_type": "execute_result",
          "data": {
            "text/html": [
              "<div>\n",
              "<style scoped>\n",
              "    .dataframe tbody tr th:only-of-type {\n",
              "        vertical-align: middle;\n",
              "    }\n",
              "\n",
              "    .dataframe tbody tr th {\n",
              "        vertical-align: top;\n",
              "    }\n",
              "\n",
              "    .dataframe thead th {\n",
              "        text-align: right;\n",
              "    }\n",
              "</style>\n",
              "<table border=\"1\" class=\"dataframe\">\n",
              "  <thead>\n",
              "    <tr style=\"text-align: right;\">\n",
              "      <th></th>\n",
              "      <th>confirmed</th>\n",
              "    </tr>\n",
              "  </thead>\n",
              "  <tbody>\n",
              "    <tr>\n",
              "      <th>2020-01-22</th>\n",
              "      <td>0</td>\n",
              "    </tr>\n",
              "    <tr>\n",
              "      <th>2020-01-23</th>\n",
              "      <td>0</td>\n",
              "    </tr>\n",
              "    <tr>\n",
              "      <th>2020-01-24</th>\n",
              "      <td>0</td>\n",
              "    </tr>\n",
              "  </tbody>\n",
              "</table>\n",
              "</div>"
            ],
            "text/plain": [
              "            confirmed\n",
              "2020-01-22          0\n",
              "2020-01-23          0\n",
              "2020-01-24          0"
            ]
          },
          "metadata": {
            "tags": []
          },
          "execution_count": 20
        }
      ]
    },
    {
      "cell_type": "code",
      "metadata": {
        "id": "QXwQTIeTMPqo",
        "colab_type": "code",
        "colab": {
          "base_uri": "https://localhost:8080/",
          "height": 298
        },
        "outputId": "a3459cf6-2731-41df-aa18-23d22484d936"
      },
      "source": [
        "plt.plot(cases)\n",
        "plt.title(\"Cumulative daily cases\")"
      ],
      "execution_count": 21,
      "outputs": [
        {
          "output_type": "execute_result",
          "data": {
            "text/plain": [
              "Text(0.5, 1.0, 'Cumulative daily cases')"
            ]
          },
          "metadata": {
            "tags": []
          },
          "execution_count": 21
        },
        {
          "output_type": "display_data",
          "data": {
            "image/png": "[encoded data removed]",
            "text/plain": [
              "<Figure size 432x288 with 1 Axes>"
            ]
          },
          "metadata": {
            "tags": [],
            "needs_background": "light"
          }
        }
      ]
    },
    {
      "cell_type": "code",
      "metadata": {
        "id": "Hz0mDB3KMXH8",
        "colab_type": "code",
        "colab": {}
      },
      "source": [
        "#df = cases.diff()"
      ],
      "execution_count": 22,
      "outputs": []
    },
    {
      "cell_type": "code",
      "metadata": {
        "id": "7UdaJbazOiYH",
        "colab_type": "code",
        "colab": {}
      },
      "source": [
        "#df = df.fillna(cases.iloc[0, :].values[0]).astype(np.int64)"
      ],
      "execution_count": 30,
      "outputs": []
    },
    {
      "cell_type": "code",
      "metadata": {
        "id": "ZF0K6dn6PmA3",
        "colab_type": "code",
        "colab": {}
      },
      "source": [
        "## Undo cumulative cases\n",
        "cases = cases.diff().fillna(cases.iloc[0, :].values[0]).astype(np.int64)"
      ],
      "execution_count": 32,
      "outputs": []
    },
    {
      "cell_type": "code",
      "metadata": {
        "id": "ZAETO3CTMuzc",
        "colab_type": "code",
        "colab": {
          "base_uri": "https://localhost:8080/",
          "height": 298
        },
        "outputId": "b9c47114-9c49-4f42-bbae-792bde62f8cd"
      },
      "source": [
        "plt.plot(cases)\n",
        "plt.title(\"Daily cases\")"
      ],
      "execution_count": 33,
      "outputs": [
        {
          "output_type": "execute_result",
          "data": {
            "text/plain": [
              "Text(0.5, 1.0, 'Daily cases')"
            ]
          },
          "metadata": {
            "tags": []
          },
          "execution_count": 33
        },
        {
          "output_type": "display_data",
          "data": {
            "image/png": "[encoded data removed]",
            "text/plain": [
              "<Figure size 432x288 with 1 Axes>"
            ]
          },
          "metadata": {
            "tags": [],
            "needs_background": "light"
          }
        }
      ]
    },
    {
      "cell_type": "markdown",
      "metadata": {
        "id": "VUM6-IxqP5gP",
        "colab_type": "text"
      },
      "source": [
        "#### Preprocessing"
      ]
    },
    {
      "cell_type": "code",
      "metadata": {
        "id": "hS0iXLxcQH6R",
        "colab_type": "code",
        "colab": {
          "base_uri": "https://localhost:8080/",
          "height": 34
        },
        "outputId": "7a7b518e-61f9-4a36-fbaa-c7b525af9eb1"
      },
      "source": [
        "cases.shape"
      ],
      "execution_count": 34,
      "outputs": [
        {
          "output_type": "execute_result",
          "data": {
            "text/plain": [
              "(183, 1)"
            ]
          },
          "metadata": {
            "tags": []
          },
          "execution_count": 34
        }
      ]
    },
    {
      "cell_type": "code",
      "metadata": {
        "id": "rVglfw2JPzqF",
        "colab_type": "code",
        "colab": {
          "base_uri": "https://localhost:8080/",
          "height": 34
        },
        "outputId": "6ce4e920-21b3-45bd-87a9-a4e8810cc653"
      },
      "source": [
        "# 80/20 split\n",
        "test_data_size = 36\n",
        "\n",
        "train_data = cases[:-test_data_size]\n",
        "test_data = cases[-test_data_size:]\n",
        "\n",
        "train_data.shape"
      ],
      "execution_count": 36,
      "outputs": [
        {
          "output_type": "execute_result",
          "data": {
            "text/plain": [
              "(147, 1)"
            ]
          },
          "metadata": {
            "tags": []
          },
          "execution_count": 36
        }
      ]
    },
    {
      "cell_type": "code",
      "metadata": {
        "id": "LqjVLBF1R7DZ",
        "colab_type": "code",
        "colab": {}
      },
      "source": [
        "scaler = MinMaxScaler()\n",
        "scaler = scaler.fit(train_data)"
      ],
      "execution_count": 43,
      "outputs": []
    },
    {
      "cell_type": "code",
      "metadata": {
        "id": "1D7iyPf7SRzK",
        "colab_type": "code",
        "colab": {}
      },
      "source": [
        "train_data = scaler.transform(train_data)\n",
        "test_data = scaler.transform(test_data)"
      ],
      "execution_count": 44,
      "outputs": []
    },
    {
      "cell_type": "code",
      "metadata": {
        "id": "I_T5_rh-TxJ2",
        "colab_type": "code",
        "colab": {}
      },
      "source": [
        "def create_sequences(data, seq_length):\n",
        "    xs = []\n",
        "    ys = []\n",
        "    for i in range(len(data)-seq_length-1):\n",
        "        x = data[i:(i+seq_length)]\n",
        "        y = data[i+seq_length]\n",
        "        xs.append(x)\n",
        "        ys.append(y)\n",
        "    return np.array(xs), np.array(ys)"
      ],
      "execution_count": 47,
      "outputs": []
    },
    {
      "cell_type": "code",
      "metadata": {
        "id": "qo1Y_xvQT-lc",
        "colab_type": "code",
        "colab": {}
      },
      "source": [
        "seq_length = 5\n",
        "X_train, y_train = create_sequences(train_data, seq_length)\n",
        "X_test, y_test = create_sequences(test_data, seq_length)\n",
        "X_train = torch.from_numpy(X_train).float()\n",
        "y_train = torch.from_numpy(y_train).float()\n",
        "X_test = torch.from_numpy(X_test).float()\n",
        "y_test = torch.from_numpy(y_test).float()"
      ],
      "execution_count": 48,
      "outputs": []
    },
    {
      "cell_type": "code",
      "metadata": {
        "id": "F8YXgLH8YHZw",
        "colab_type": "code",
        "colab": {
          "base_uri": "https://localhost:8080/",
          "height": 85
        },
        "outputId": "769ca010-8068-4b28-febf-7e69447b3f3f"
      },
      "source": [
        "print(\"X_train shape:{} \\ny_train shape:{} \\nX_test shape:{} \\ny_test shape: {}\".format(X_train.shape, y_train.shape, X_test.shape, y_test.shape))"
      ],
      "execution_count": 50,
      "outputs": [
        {
          "output_type": "stream",
          "text": [
            "X_train shape:torch.Size([141, 5, 1]) \n",
            "y_train shape:torch.Size([141, 1]) \n",
            "X_test shape:torch.Size([30, 5, 1]) \n",
            "y_test shape: torch.Size([30, 1])\n"
          ],
          "name": "stdout"
        }
      ]
    },
    {
      "cell_type": "code",
      "metadata": {
        "id": "wUVtoWrhZSoL",
        "colab_type": "code",
        "colab": {}
      },
      "source": [
        "class LSTMPredictor(nn.Module):\n",
        "  def __init__(self, n_features, n_hidden, seq_len, n_layers=2):\n",
        "    super(LSTMPredictor, self).__init__()\n",
        "\n",
        "    self.n_hidden = n_hidden\n",
        "    self.seq_len = seq_len\n",
        "    self.n_layers = n_layers\n",
        "\n",
        "    self.lstm = nn.LSTM(\n",
        "      input_size=n_features,\n",
        "      hidden_size=n_hidden,\n",
        "      num_layers=n_layers,\n",
        "      dropout=0.5\n",
        "    )\n",
        "\n",
        "    self.linear = nn.Linear(in_features=n_hidden, out_features=1)\n",
        "\n",
        "  def reset_hidden_state(self):\n",
        "    self.hidden = (\n",
        "        torch.zeros(self.n_layers, self.seq_len, self.n_hidden),\n",
        "        torch.zeros(self.n_layers, self.seq_len, self.n_hidden)\n",
        "    )\n",
        "\n",
        "  def forward(self, sequences):\n",
        "    lstm_out, self.hidden = self.lstm(\n",
        "      sequences.view(len(sequences), self.seq_len, -1),\n",
        "      self.hidden\n",
        "    )\n",
        "    last_time_step = \\\n",
        "      lstm_out.view(self.seq_len, len(sequences), self.n_hidden)[-1]\n",
        "    y_pred = self.linear(last_time_step)\n",
        "    return y_pred"
      ],
      "execution_count": 51,
      "outputs": []
    },
    {
      "cell_type": "code",
      "metadata": {
        "id": "nrydpzLLbJW-",
        "colab_type": "code",
        "colab": {}
      },
      "source": [
        "def train_model(model, train_data, train_labels, test_data=None, test_labels=None):\n",
        "  loss_fn = torch.nn.MSELoss(reduction='sum')\n",
        "  optimiser = torch.optim.Adam(model.parameters(), lr=1e-3)\n",
        "  num_epochs = 60\n",
        "  train_hist = np.zeros(num_epochs)\n",
        "  test_hist = np.zeros(num_epochs)\n",
        "\n",
        "  for t in range(num_epochs):\n",
        "    model.reset_hidden_state()\n",
        "    y_pred = model(X_train)\n",
        "    loss = loss_fn(y_pred.float(), y_train)\n",
        "    if test_data is not None:\n",
        "      with torch.no_grad():\n",
        "        y_test_pred = model(X_test)\n",
        "        test_loss = loss_fn(y_test_pred.float(), y_test)\n",
        "      test_hist[t] = test_loss.item()\n",
        "      if t % 10 == 0:\n",
        "        print(f'Epoch {t} train loss: {loss.item()} test loss: {test_loss.item()}')\n",
        "    elif t % 10 == 0:\n",
        "      print(f'Epoch {t} train loss: {loss.item()}')\n",
        "    train_hist[t] = loss.item()\n",
        "    optimiser.zero_grad()\n",
        "    loss.backward()\n",
        "    optimiser.step()\n",
        "    \n",
        "  return model.eval(), train_hist, test_hist"
      ],
      "execution_count": 52,
      "outputs": []
    },
    {
      "cell_type": "code",
      "metadata": {
        "id": "6QCwubyKciqN",
        "colab_type": "code",
        "colab": {}
      },
      "source": [
        "model = LSTMPredictor(n_features=1, n_hidden=512, seq_len=seq_length, n_layers=2)"
      ],
      "execution_count": 54,
      "outputs": []
    },
    {
      "cell_type": "code",
      "metadata": {
        "id": "qsPjNIbhdwJw",
        "colab_type": "code",
        "colab": {
          "base_uri": "https://localhost:8080/",
          "height": 119
        },
        "outputId": "e0d11fa9-e134-4c92-a110-1fada4ed88b6"
      },
      "source": [
        "model, train_hist, test_hist = train_model(model, X_train, y_train, X_test, y_test)"
      ],
      "execution_count": 55,
      "outputs": [
        {
          "output_type": "stream",
          "text": [
            "Epoch 0 train loss: 20.74845314025879 test loss: 0.13972829282283783\n",
            "Epoch 10 train loss: 11.651948928833008 test loss: 1.071726679801941\n",
            "Epoch 20 train loss: 11.592264175415039 test loss: 0.9441437721252441\n",
            "Epoch 30 train loss: 11.033352851867676 test loss: 1.4848167896270752\n",
            "Epoch 40 train loss: 11.89135456085205 test loss: 0.6503816246986389\n",
            "Epoch 50 train loss: 11.745765686035156 test loss: 1.90584135055542\n"
          ],
          "name": "stdout"
        }
      ]
    },
    {
      "cell_type": "code",
      "metadata": {
        "id": "eKpKVcx0e9xk",
        "colab_type": "code",
        "colab": {
          "base_uri": "https://localhost:8080/",
          "height": 286
        },
        "outputId": "1e912c12-204f-4a81-edd8-ed1abb64bebf"
      },
      "source": [
        "plt.plot(train_hist, label=\"Training loss\")\n",
        "plt.plot(test_hist, label=\"Test loss\")\n",
        "plt.ylim((0, 5))\n",
        "plt.legend()"
      ],
      "execution_count": 56,
      "outputs": [
        {
          "output_type": "execute_result",
          "data": {
            "text/plain": [
              "<matplotlib.legend.Legend at 0x7f491bf4bf98>"
            ]
          },
          "metadata": {
            "tags": []
          },
          "execution_count": 56
        },
        {
          "output_type": "display_data",
          "data": {
            "image/png": "[encoded data removed]",
            "text/plain": [
              "<Figure size 432x288 with 1 Axes>"
            ]
          },
          "metadata": {
            "tags": [],
            "needs_background": "light"
          }
        }
      ]
    },
    {
      "cell_type": "code",
      "metadata": {
        "id": "3sWNPJx3fJli",
        "colab_type": "code",
        "colab": {}
      },
      "source": [
        "with torch.no_grad():\n",
        "  test_seq = X_test[:1]\n",
        "  preds = []\n",
        "  for _ in range(len(X_test)):\n",
        "    y_test_pred = model(test_seq)\n",
        "    pred = torch.flatten(y_test_pred).item()\n",
        "    preds.append(pred)\n",
        "    new_seq = test_seq.numpy().flatten()\n",
        "    new_seq = np.append(new_seq, [pred])\n",
        "    new_seq = new_seq[1:]\n",
        "    test_seq = torch.as_tensor(new_seq).view(1, seq_length, 1).float()"
      ],
      "execution_count": 57,
      "outputs": []
    },
    {
      "cell_type": "code",
      "metadata": {
        "id": "Ov2G6HNEghtV",
        "colab_type": "code",
        "colab": {}
      },
      "source": [
        "true_cases = scaler.inverse_transform(np.expand_dims(y_test.flatten().numpy(), axis=0)).flatten()\n",
        "predicted_cases = scaler.inverse_transform(np.expand_dims(preds, axis=0)).flatten()"
      ],
      "execution_count": 58,
      "outputs": []
    },
    {
      "cell_type": "code",
      "metadata": {
        "id": "lw8uWNhJgn1g",
        "colab_type": "code",
        "colab": {
          "base_uri": "https://localhost:8080/",
          "height": 282
        },
        "outputId": "701b284c-4b75-4f1f-8374-d4c0cfb0c0ed"
      },
      "source": [
        "plt.plot(cases.index[:len(train_data)], scaler.inverse_transform(train_data).flatten(), label='Historical Daily Cases')\n",
        "plt.plot(cases.index[len(train_data):len(train_data) + len(true_cases)], true_cases, label='Real Daily Cases')\n",
        "plt.plot(cases.index[len(train_data):len(train_data) + len(true_cases)], predicted_cases, label='Predicted Daily Cases')\n",
        "plt.legend()"
      ],
      "execution_count": 60,
      "outputs": [
        {
          "output_type": "execute_result",
          "data": {
            "text/plain": [
              "<matplotlib.legend.Legend at 0x7f491ae39e48>"
            ]
          },
          "metadata": {
            "tags": []
          },
          "execution_count": 60
        },
        {
          "output_type": "display_data",
          "data": {
            "image/png": "[encoded data removed]",
            "text/plain": [
              "<Figure size 432x288 with 1 Axes>"
            ]
          },
          "metadata": {
            "tags": [],
            "needs_background": "light"
          }
        }
      ]
    },
    {
      "cell_type": "markdown",
      "metadata": {
        "id": "lmmiFMYs-iDt",
        "colab_type": "text"
      },
      "source": [
        "## Model With Mobility"
      ]
    },
    {
      "cell_type": "code",
      "metadata": {
        "id": "RAG6flXA-ke7",
        "colab_type": "code",
        "colab": {}
      },
      "source": [
        "mobility_groups = us_mobility.groupby(\"sub_region_1\")"
      ],
      "execution_count": 17,
      "outputs": []
    },
    {
      "cell_type": "code",
      "metadata": {
        "id": "SnbeSxs0i3So",
        "colab_type": "code",
        "colab": {
          "base_uri": "https://localhost:8080/",
          "height": 34
        },
        "outputId": "81a88459-ddbc-489d-fc73-ed7cc9ff46be"
      },
      "source": [
        "mob = mobility_groups.get_group(\"New Jersey\")\n",
        "mob.shape"
      ],
      "execution_count": 18,
      "outputs": [
        {
          "output_type": "execute_result",
          "data": {
            "text/plain": [
              "(3432, 13)"
            ]
          },
          "metadata": {
            "tags": []
          },
          "execution_count": 18
        }
      ]
    },
    {
      "cell_type": "code",
      "metadata": {
        "id": "L4g1i1pXi3Ye",
        "colab_type": "code",
        "colab": {
          "base_uri": "https://localhost:8080/",
          "height": 34
        },
        "outputId": "27330424-dae3-4831-99b7-2cbff0ef9dd1"
      },
      "source": [
        "mob.isna().sum().sum()"
      ],
      "execution_count": 19,
      "outputs": [
        {
          "output_type": "execute_result",
          "data": {
            "text/plain": [
              "4564"
            ]
          },
          "metadata": {
            "tags": []
          },
          "execution_count": 19
        }
      ]
    },
    {
      "cell_type": "code",
      "metadata": {
        "id": "l0fLYG96k-8s",
        "colab_type": "code",
        "colab": {}
      },
      "source": [
        "mob.reset_index(drop=True, inplace=True)"
      ],
      "execution_count": 20,
      "outputs": []
    },
    {
      "cell_type": "code",
      "metadata": {
        "id": "lsrzR-9zoKIn",
        "colab_type": "code",
        "colab": {
          "base_uri": "https://localhost:8080/",
          "height": 213
        },
        "outputId": "d50a055e-08c7-4823-f68b-c99a15365d8d"
      },
      "source": [
        "imob = mob.loc[ (mob.sub_region_2=='Essex County') ]\n",
        "imob.head(3)"
      ],
      "execution_count": 21,
      "outputs": [
        {
          "output_type": "execute_result",
          "data": {
            "text/html": [
              "<div>\n",
              "<style scoped>\n",
              "    .dataframe tbody tr th:only-of-type {\n",
              "        vertical-align: middle;\n",
              "    }\n",
              "\n",
              "    .dataframe tbody tr th {\n",
              "        vertical-align: top;\n",
              "    }\n",
              "\n",
              "    .dataframe thead th {\n",
              "        text-align: right;\n",
              "    }\n",
              "</style>\n",
              "<table border=\"1\" class=\"dataframe\">\n",
              "  <thead>\n",
              "    <tr style=\"text-align: right;\">\n",
              "      <th></th>\n",
              "      <th>country_region_code</th>\n",
              "      <th>country_region</th>\n",
              "      <th>sub_region_1</th>\n",
              "      <th>sub_region_2</th>\n",
              "      <th>iso_3166_2_code</th>\n",
              "      <th>census_fips_code</th>\n",
              "      <th>date</th>\n",
              "      <th>retail_and_recreation_percent_change_from_baseline</th>\n",
              "      <th>grocery_and_pharmacy_percent_change_from_baseline</th>\n",
              "      <th>parks_percent_change_from_baseline</th>\n",
              "      <th>transit_stations_percent_change_from_baseline</th>\n",
              "      <th>workplaces_percent_change_from_baseline</th>\n",
              "      <th>residential_percent_change_from_baseline</th>\n",
              "    </tr>\n",
              "  </thead>\n",
              "  <tbody>\n",
              "    <tr>\n",
              "      <th>1092</th>\n",
              "      <td>US</td>\n",
              "      <td>United States</td>\n",
              "      <td>New Jersey</td>\n",
              "      <td>Essex County</td>\n",
              "      <td>NaN</td>\n",
              "      <td>34013.0</td>\n",
              "      <td>2020-02-15</td>\n",
              "      <td>3.0</td>\n",
              "      <td>-4.0</td>\n",
              "      <td>-7.0</td>\n",
              "      <td>-2.0</td>\n",
              "      <td>-1.0</td>\n",
              "      <td>0.0</td>\n",
              "    </tr>\n",
              "    <tr>\n",
              "      <th>1093</th>\n",
              "      <td>US</td>\n",
              "      <td>United States</td>\n",
              "      <td>New Jersey</td>\n",
              "      <td>Essex County</td>\n",
              "      <td>NaN</td>\n",
              "      <td>34013.0</td>\n",
              "      <td>2020-02-16</td>\n",
              "      <td>3.0</td>\n",
              "      <td>-6.0</td>\n",
              "      <td>9.0</td>\n",
              "      <td>-2.0</td>\n",
              "      <td>0.0</td>\n",
              "      <td>0.0</td>\n",
              "    </tr>\n",
              "    <tr>\n",
              "      <th>1094</th>\n",
              "      <td>US</td>\n",
              "      <td>United States</td>\n",
              "      <td>New Jersey</td>\n",
              "      <td>Essex County</td>\n",
              "      <td>NaN</td>\n",
              "      <td>34013.0</td>\n",
              "      <td>2020-02-17</td>\n",
              "      <td>6.0</td>\n",
              "      <td>-2.0</td>\n",
              "      <td>52.0</td>\n",
              "      <td>-17.0</td>\n",
              "      <td>-36.0</td>\n",
              "      <td>9.0</td>\n",
              "    </tr>\n",
              "  </tbody>\n",
              "</table>\n",
              "</div>"
            ],
            "text/plain": [
              "     country_region_code  ... residential_percent_change_from_baseline\n",
              "1092                  US  ...                                      0.0\n",
              "1093                  US  ...                                      0.0\n",
              "1094                  US  ...                                      9.0\n",
              "\n",
              "[3 rows x 13 columns]"
            ]
          },
          "metadata": {
            "tags": []
          },
          "execution_count": 21
        }
      ]
    },
    {
      "cell_type": "code",
      "metadata": {
        "id": "BQGqD4wMr65l",
        "colab_type": "code",
        "colab": {}
      },
      "source": [
        "imob.reset_index(drop=True, inplace=True)"
      ],
      "execution_count": 22,
      "outputs": []
    },
    {
      "cell_type": "code",
      "metadata": {
        "id": "pYhdUR-twOb8",
        "colab_type": "code",
        "colab": {
          "base_uri": "https://localhost:8080/",
          "height": 119
        },
        "outputId": "cb4529ad-c7ab-4a13-fd51-7e47946209f4"
      },
      "source": [
        "imob.date = pd.to_datetime(imob.date)"
      ],
      "execution_count": 23,
      "outputs": [
        {
          "output_type": "stream",
          "text": [
            "/usr/local/lib/python3.6/dist-packages/pandas/core/generic.py:5303: SettingWithCopyWarning: \n",
            "A value is trying to be set on a copy of a slice from a DataFrame.\n",
            "Try using .loc[row_indexer,col_indexer] = value instead\n",
            "\n",
            "See the caveats in the documentation: https://pandas.pydata.org/pandas-docs/stable/user_guide/indexing.html#returning-a-view-versus-a-copy\n",
            "  self[name] = value\n"
          ],
          "name": "stderr"
        }
      ]
    },
    {
      "cell_type": "code",
      "metadata": {
        "id": "9mlhAIJ8wfOu",
        "colab_type": "code",
        "colab": {}
      },
      "source": [
        "imob.set_index('date', inplace=True, drop=True)"
      ],
      "execution_count": 24,
      "outputs": []
    },
    {
      "cell_type": "code",
      "metadata": {
        "id": "2iSx-RhCoKQD",
        "colab_type": "code",
        "colab": {}
      },
      "source": [
        "imob = imob.iloc[:, 6:]"
      ],
      "execution_count": 25,
      "outputs": []
    },
    {
      "cell_type": "code",
      "metadata": {
        "id": "t1MmZkCoyAhu",
        "colab_type": "code",
        "colab": {
          "base_uri": "https://localhost:8080/",
          "height": 136
        },
        "outputId": "7b5ce560-f018-4edc-f17b-19f313e087c0"
      },
      "source": [
        "imob.isna().sum()"
      ],
      "execution_count": 26,
      "outputs": [
        {
          "output_type": "execute_result",
          "data": {
            "text/plain": [
              "retail_and_recreation_percent_change_from_baseline    0\n",
              "grocery_and_pharmacy_percent_change_from_baseline     0\n",
              "parks_percent_change_from_baseline                    1\n",
              "transit_stations_percent_change_from_baseline         0\n",
              "workplaces_percent_change_from_baseline               0\n",
              "residential_percent_change_from_baseline              0\n",
              "dtype: int64"
            ]
          },
          "metadata": {
            "tags": []
          },
          "execution_count": 26
        }
      ]
    },
    {
      "cell_type": "code",
      "metadata": {
        "id": "G9bw3Z1JyE5W",
        "colab_type": "code",
        "colab": {}
      },
      "source": [
        "imob.parks_percent_change_from_baseline.fillna(0.0, inplace=True)"
      ],
      "execution_count": 27,
      "outputs": []
    },
    {
      "cell_type": "code",
      "metadata": {
        "id": "02WNWMzlxw2h",
        "colab_type": "code",
        "colab": {
          "base_uri": "https://localhost:8080/",
          "height": 340
        },
        "outputId": "22e9d00b-e910-45e8-94dd-0ca4339342c9"
      },
      "source": [
        "imob.head()"
      ],
      "execution_count": 28,
      "outputs": [
        {
          "output_type": "execute_result",
          "data": {
            "text/html": [
              "<div>\n",
              "<style scoped>\n",
              "    .dataframe tbody tr th:only-of-type {\n",
              "        vertical-align: middle;\n",
              "    }\n",
              "\n",
              "    .dataframe tbody tr th {\n",
              "        vertical-align: top;\n",
              "    }\n",
              "\n",
              "    .dataframe thead th {\n",
              "        text-align: right;\n",
              "    }\n",
              "</style>\n",
              "<table border=\"1\" class=\"dataframe\">\n",
              "  <thead>\n",
              "    <tr style=\"text-align: right;\">\n",
              "      <th></th>\n",
              "      <th>retail_and_recreation_percent_change_from_baseline</th>\n",
              "      <th>grocery_and_pharmacy_percent_change_from_baseline</th>\n",
              "      <th>parks_percent_change_from_baseline</th>\n",
              "      <th>transit_stations_percent_change_from_baseline</th>\n",
              "      <th>workplaces_percent_change_from_baseline</th>\n",
              "      <th>residential_percent_change_from_baseline</th>\n",
              "    </tr>\n",
              "    <tr>\n",
              "      <th>date</th>\n",
              "      <th></th>\n",
              "      <th></th>\n",
              "      <th></th>\n",
              "      <th></th>\n",
              "      <th></th>\n",
              "      <th></th>\n",
              "    </tr>\n",
              "  </thead>\n",
              "  <tbody>\n",
              "    <tr>\n",
              "      <th>2020-02-15</th>\n",
              "      <td>3.0</td>\n",
              "      <td>-4.0</td>\n",
              "      <td>-7.0</td>\n",
              "      <td>-2.0</td>\n",
              "      <td>-1.0</td>\n",
              "      <td>0.0</td>\n",
              "    </tr>\n",
              "    <tr>\n",
              "      <th>2020-02-16</th>\n",
              "      <td>3.0</td>\n",
              "      <td>-6.0</td>\n",
              "      <td>9.0</td>\n",
              "      <td>-2.0</td>\n",
              "      <td>0.0</td>\n",
              "      <td>0.0</td>\n",
              "    </tr>\n",
              "    <tr>\n",
              "      <th>2020-02-17</th>\n",
              "      <td>6.0</td>\n",
              "      <td>-2.0</td>\n",
              "      <td>52.0</td>\n",
              "      <td>-17.0</td>\n",
              "      <td>-36.0</td>\n",
              "      <td>9.0</td>\n",
              "    </tr>\n",
              "    <tr>\n",
              "      <th>2020-02-18</th>\n",
              "      <td>0.0</td>\n",
              "      <td>0.0</td>\n",
              "      <td>1.0</td>\n",
              "      <td>2.0</td>\n",
              "      <td>-1.0</td>\n",
              "      <td>1.0</td>\n",
              "    </tr>\n",
              "    <tr>\n",
              "      <th>2020-02-19</th>\n",
              "      <td>1.0</td>\n",
              "      <td>-1.0</td>\n",
              "      <td>9.0</td>\n",
              "      <td>3.0</td>\n",
              "      <td>-1.0</td>\n",
              "      <td>0.0</td>\n",
              "    </tr>\n",
              "  </tbody>\n",
              "</table>\n",
              "</div>"
            ],
            "text/plain": [
              "            retail_and_recreation_percent_change_from_baseline  ...  residential_percent_change_from_baseline\n",
              "date                                                            ...                                          \n",
              "2020-02-15                                                3.0   ...                                       0.0\n",
              "2020-02-16                                                3.0   ...                                       0.0\n",
              "2020-02-17                                                6.0   ...                                       9.0\n",
              "2020-02-18                                                0.0   ...                                       1.0\n",
              "2020-02-19                                                1.0   ...                                       0.0\n",
              "\n",
              "[5 rows x 6 columns]"
            ]
          },
          "metadata": {
            "tags": []
          },
          "execution_count": 28
        }
      ]
    },
    {
      "cell_type": "code",
      "metadata": {
        "id": "gUC0EoSQyxoQ",
        "colab_type": "code",
        "colab": {
          "base_uri": "https://localhost:8080/",
          "height": 146
        },
        "outputId": "79914328-3c25-4df3-fc34-fade53823fe3"
      },
      "source": [
        "state = 'New Jersey'\n",
        "county = 'Essex'\n",
        "nj_cases = get_state_df(cases_groups, state)\n",
        "ecases = get_county_df(nj_cases, county)\n",
        "ecases"
      ],
      "execution_count": 29,
      "outputs": [
        {
          "output_type": "execute_result",
          "data": {
            "text/html": [
              "<div>\n",
              "<style scoped>\n",
              "    .dataframe tbody tr th:only-of-type {\n",
              "        vertical-align: middle;\n",
              "    }\n",
              "\n",
              "    .dataframe tbody tr th {\n",
              "        vertical-align: top;\n",
              "    }\n",
              "\n",
              "    .dataframe thead th {\n",
              "        text-align: right;\n",
              "    }\n",
              "</style>\n",
              "<table border=\"1\" class=\"dataframe\">\n",
              "  <thead>\n",
              "    <tr style=\"text-align: right;\">\n",
              "      <th></th>\n",
              "      <th>UID</th>\n",
              "      <th>iso2</th>\n",
              "      <th>iso3</th>\n",
              "      <th>code3</th>\n",
              "      <th>FIPS</th>\n",
              "      <th>Admin2</th>\n",
              "      <th>Province_State</th>\n",
              "      <th>Country_Region</th>\n",
              "      <th>Lat</th>\n",
              "      <th>Long_</th>\n",
              "      <th>Combined_Key</th>\n",
              "      <th>1/22/20</th>\n",
              "      <th>1/23/20</th>\n",
              "      <th>1/24/20</th>\n",
              "      <th>1/25/20</th>\n",
              "      <th>1/26/20</th>\n",
              "      <th>1/27/20</th>\n",
              "      <th>1/28/20</th>\n",
              "      <th>1/29/20</th>\n",
              "      <th>1/30/20</th>\n",
              "      <th>1/31/20</th>\n",
              "      <th>2/1/20</th>\n",
              "      <th>2/2/20</th>\n",
              "      <th>2/3/20</th>\n",
              "      <th>2/4/20</th>\n",
              "      <th>2/5/20</th>\n",
              "      <th>2/6/20</th>\n",
              "      <th>2/7/20</th>\n",
              "      <th>2/8/20</th>\n",
              "      <th>2/9/20</th>\n",
              "      <th>2/10/20</th>\n",
              "      <th>2/11/20</th>\n",
              "      <th>2/12/20</th>\n",
              "      <th>2/13/20</th>\n",
              "      <th>2/14/20</th>\n",
              "      <th>2/15/20</th>\n",
              "      <th>2/16/20</th>\n",
              "      <th>2/17/20</th>\n",
              "      <th>2/18/20</th>\n",
              "      <th>2/19/20</th>\n",
              "      <th>...</th>\n",
              "      <th>6/13/20</th>\n",
              "      <th>6/14/20</th>\n",
              "      <th>6/15/20</th>\n",
              "      <th>6/16/20</th>\n",
              "      <th>6/17/20</th>\n",
              "      <th>6/18/20</th>\n",
              "      <th>6/19/20</th>\n",
              "      <th>6/20/20</th>\n",
              "      <th>6/21/20</th>\n",
              "      <th>6/22/20</th>\n",
              "      <th>6/23/20</th>\n",
              "      <th>6/24/20</th>\n",
              "      <th>6/25/20</th>\n",
              "      <th>6/26/20</th>\n",
              "      <th>6/27/20</th>\n",
              "      <th>6/28/20</th>\n",
              "      <th>6/29/20</th>\n",
              "      <th>6/30/20</th>\n",
              "      <th>7/1/20</th>\n",
              "      <th>7/2/20</th>\n",
              "      <th>7/3/20</th>\n",
              "      <th>7/4/20</th>\n",
              "      <th>7/5/20</th>\n",
              "      <th>7/6/20</th>\n",
              "      <th>7/7/20</th>\n",
              "      <th>7/8/20</th>\n",
              "      <th>7/9/20</th>\n",
              "      <th>7/10/20</th>\n",
              "      <th>7/11/20</th>\n",
              "      <th>7/12/20</th>\n",
              "      <th>7/13/20</th>\n",
              "      <th>7/14/20</th>\n",
              "      <th>7/15/20</th>\n",
              "      <th>7/16/20</th>\n",
              "      <th>7/17/20</th>\n",
              "      <th>7/18/20</th>\n",
              "      <th>7/19/20</th>\n",
              "      <th>7/20/20</th>\n",
              "      <th>7/21/20</th>\n",
              "      <th>7/22/20</th>\n",
              "    </tr>\n",
              "  </thead>\n",
              "  <tbody>\n",
              "    <tr>\n",
              "      <th>1862</th>\n",
              "      <td>84034013</td>\n",
              "      <td>US</td>\n",
              "      <td>USA</td>\n",
              "      <td>840</td>\n",
              "      <td>34013.0</td>\n",
              "      <td>Essex</td>\n",
              "      <td>New Jersey</td>\n",
              "      <td>US</td>\n",
              "      <td>40.786813</td>\n",
              "      <td>-74.24658</td>\n",
              "      <td>Essex, New Jersey, US</td>\n",
              "      <td>0</td>\n",
              "      <td>0</td>\n",
              "      <td>0</td>\n",
              "      <td>0</td>\n",
              "      <td>0</td>\n",
              "      <td>0</td>\n",
              "      <td>0</td>\n",
              "      <td>0</td>\n",
              "      <td>0</td>\n",
              "      <td>0</td>\n",
              "      <td>0</td>\n",
              "      <td>0</td>\n",
              "      <td>0</td>\n",
              "      <td>0</td>\n",
              "      <td>0</td>\n",
              "      <td>0</td>\n",
              "      <td>0</td>\n",
              "      <td>0</td>\n",
              "      <td>0</td>\n",
              "      <td>0</td>\n",
              "      <td>0</td>\n",
              "      <td>0</td>\n",
              "      <td>0</td>\n",
              "      <td>0</td>\n",
              "      <td>0</td>\n",
              "      <td>0</td>\n",
              "      <td>0</td>\n",
              "      <td>0</td>\n",
              "      <td>0</td>\n",
              "      <td>...</td>\n",
              "      <td>18336</td>\n",
              "      <td>18364</td>\n",
              "      <td>18375</td>\n",
              "      <td>18388</td>\n",
              "      <td>18421</td>\n",
              "      <td>18499</td>\n",
              "      <td>18533</td>\n",
              "      <td>18531</td>\n",
              "      <td>18551</td>\n",
              "      <td>18578</td>\n",
              "      <td>18592</td>\n",
              "      <td>18617</td>\n",
              "      <td>18637</td>\n",
              "      <td>18666</td>\n",
              "      <td>18696</td>\n",
              "      <td>18716</td>\n",
              "      <td>18731</td>\n",
              "      <td>18758</td>\n",
              "      <td>18771</td>\n",
              "      <td>18804</td>\n",
              "      <td>18842</td>\n",
              "      <td>18859</td>\n",
              "      <td>18887</td>\n",
              "      <td>18895</td>\n",
              "      <td>18918</td>\n",
              "      <td>18920</td>\n",
              "      <td>18928</td>\n",
              "      <td>18954</td>\n",
              "      <td>18988</td>\n",
              "      <td>19008</td>\n",
              "      <td>19039</td>\n",
              "      <td>19058</td>\n",
              "      <td>19100</td>\n",
              "      <td>19119</td>\n",
              "      <td>19111</td>\n",
              "      <td>19105</td>\n",
              "      <td>19105</td>\n",
              "      <td>19121</td>\n",
              "      <td>19153</td>\n",
              "      <td>19173</td>\n",
              "    </tr>\n",
              "  </tbody>\n",
              "</table>\n",
              "<p>1 rows × 194 columns</p>\n",
              "</div>"
            ],
            "text/plain": [
              "           UID iso2 iso3  code3  ...  7/19/20 7/20/20 7/21/20 7/22/20\n",
              "1862  84034013   US  USA    840  ...    19105   19121   19153   19173\n",
              "\n",
              "[1 rows x 194 columns]"
            ]
          },
          "metadata": {
            "tags": []
          },
          "execution_count": 29
        }
      ]
    },
    {
      "cell_type": "code",
      "metadata": {
        "id": "x58LnBDPzIwP",
        "colab_type": "code",
        "colab": {
          "base_uri": "https://localhost:8080/",
          "height": 142
        },
        "outputId": "059502f0-0e86-49f0-ea27-3cf36220d614"
      },
      "source": [
        "ecases = ecases.iloc[:, 11:]\n",
        "ecases = ecases.T\n",
        "ecases.rename(columns={1862: 'confirmed'}, inplace=True)\n",
        "ecases.index = pd.to_datetime(ecases.index)\n",
        "ecases = ecases.diff().fillna(ecases.iloc[0, :].values[0]).astype(np.int64)\n",
        "ecases.head(3)"
      ],
      "execution_count": 30,
      "outputs": [
        {
          "output_type": "execute_result",
          "data": {
            "text/html": [
              "<div>\n",
              "<style scoped>\n",
              "    .dataframe tbody tr th:only-of-type {\n",
              "        vertical-align: middle;\n",
              "    }\n",
              "\n",
              "    .dataframe tbody tr th {\n",
              "        vertical-align: top;\n",
              "    }\n",
              "\n",
              "    .dataframe thead th {\n",
              "        text-align: right;\n",
              "    }\n",
              "</style>\n",
              "<table border=\"1\" class=\"dataframe\">\n",
              "  <thead>\n",
              "    <tr style=\"text-align: right;\">\n",
              "      <th></th>\n",
              "      <th>confirmed</th>\n",
              "    </tr>\n",
              "  </thead>\n",
              "  <tbody>\n",
              "    <tr>\n",
              "      <th>2020-01-22</th>\n",
              "      <td>0</td>\n",
              "    </tr>\n",
              "    <tr>\n",
              "      <th>2020-01-23</th>\n",
              "      <td>0</td>\n",
              "    </tr>\n",
              "    <tr>\n",
              "      <th>2020-01-24</th>\n",
              "      <td>0</td>\n",
              "    </tr>\n",
              "  </tbody>\n",
              "</table>\n",
              "</div>"
            ],
            "text/plain": [
              "            confirmed\n",
              "2020-01-22          0\n",
              "2020-01-23          0\n",
              "2020-01-24          0"
            ]
          },
          "metadata": {
            "tags": []
          },
          "execution_count": 30
        }
      ]
    },
    {
      "cell_type": "markdown",
      "metadata": {
        "id": "EPu62cTn0Hfo",
        "colab_type": "text"
      },
      "source": [
        "### Joining the datasets"
      ]
    },
    {
      "cell_type": "code",
      "metadata": {
        "id": "71SgJgtR0GL-",
        "colab_type": "code",
        "colab": {}
      },
      "source": [
        "merged = pd.merge(ecases, imob, how='left', left_index=True, right_index=True)"
      ],
      "execution_count": 31,
      "outputs": []
    },
    {
      "cell_type": "code",
      "metadata": {
        "id": "4XfphESrCsfT",
        "colab_type": "code",
        "colab": {}
      },
      "source": [
        "#merged.residential_percent_change_from_baseline.fillna(0.0, inplace=True)\n",
        "#merged.grocery_and_pharmacy_percent_change_from_baseline.fillna(0.0, inplace=True)\n",
        "#merged.parks_percent_change_from_baseline.fillna(0.0, inplace=True)\n",
        "#merged.transit_stations_percent_change_from_baseline.fillna(0.0, inplace=True)\n",
        "#merged.workplaces_percent_change_from_baseline.fillna(0.0, inplace=True)\n",
        "#merged.retail_and_recreation_percent_change_from_baseline.fillna(0.0, inplace=True)"
      ],
      "execution_count": 51,
      "outputs": []
    },
    {
      "cell_type": "code",
      "metadata": {
        "id": "sp6Vm6u2FhC5",
        "colab_type": "code",
        "colab": {}
      },
      "source": [
        "## change these to values from 2020-07-19 --> '2020-07-20', '2020-07-21', '2020-07-22'"
      ],
      "execution_count": null,
      "outputs": []
    },
    {
      "cell_type": "code",
      "metadata": {
        "id": "g3AxNDVS1psb",
        "colab_type": "code",
        "colab": {
          "base_uri": "https://localhost:8080/",
          "height": 309
        },
        "outputId": "381bc1b3-244d-430a-af19-df0643352155"
      },
      "source": [
        "merged.head()"
      ],
      "execution_count": 32,
      "outputs": [
        {
          "output_type": "execute_result",
          "data": {
            "text/html": [
              "<div>\n",
              "<style scoped>\n",
              "    .dataframe tbody tr th:only-of-type {\n",
              "        vertical-align: middle;\n",
              "    }\n",
              "\n",
              "    .dataframe tbody tr th {\n",
              "        vertical-align: top;\n",
              "    }\n",
              "\n",
              "    .dataframe thead th {\n",
              "        text-align: right;\n",
              "    }\n",
              "</style>\n",
              "<table border=\"1\" class=\"dataframe\">\n",
              "  <thead>\n",
              "    <tr style=\"text-align: right;\">\n",
              "      <th></th>\n",
              "      <th>confirmed</th>\n",
              "      <th>retail_and_recreation_percent_change_from_baseline</th>\n",
              "      <th>grocery_and_pharmacy_percent_change_from_baseline</th>\n",
              "      <th>parks_percent_change_from_baseline</th>\n",
              "      <th>transit_stations_percent_change_from_baseline</th>\n",
              "      <th>workplaces_percent_change_from_baseline</th>\n",
              "      <th>residential_percent_change_from_baseline</th>\n",
              "    </tr>\n",
              "  </thead>\n",
              "  <tbody>\n",
              "    <tr>\n",
              "      <th>2020-01-22</th>\n",
              "      <td>0</td>\n",
              "      <td>NaN</td>\n",
              "      <td>NaN</td>\n",
              "      <td>NaN</td>\n",
              "      <td>NaN</td>\n",
              "      <td>NaN</td>\n",
              "      <td>NaN</td>\n",
              "    </tr>\n",
              "    <tr>\n",
              "      <th>2020-01-23</th>\n",
              "      <td>0</td>\n",
              "      <td>NaN</td>\n",
              "      <td>NaN</td>\n",
              "      <td>NaN</td>\n",
              "      <td>NaN</td>\n",
              "      <td>NaN</td>\n",
              "      <td>NaN</td>\n",
              "    </tr>\n",
              "    <tr>\n",
              "      <th>2020-01-24</th>\n",
              "      <td>0</td>\n",
              "      <td>NaN</td>\n",
              "      <td>NaN</td>\n",
              "      <td>NaN</td>\n",
              "      <td>NaN</td>\n",
              "      <td>NaN</td>\n",
              "      <td>NaN</td>\n",
              "    </tr>\n",
              "    <tr>\n",
              "      <th>2020-01-25</th>\n",
              "      <td>0</td>\n",
              "      <td>NaN</td>\n",
              "      <td>NaN</td>\n",
              "      <td>NaN</td>\n",
              "      <td>NaN</td>\n",
              "      <td>NaN</td>\n",
              "      <td>NaN</td>\n",
              "    </tr>\n",
              "    <tr>\n",
              "      <th>2020-01-26</th>\n",
              "      <td>0</td>\n",
              "      <td>NaN</td>\n",
              "      <td>NaN</td>\n",
              "      <td>NaN</td>\n",
              "      <td>NaN</td>\n",
              "      <td>NaN</td>\n",
              "      <td>NaN</td>\n",
              "    </tr>\n",
              "  </tbody>\n",
              "</table>\n",
              "</div>"
            ],
            "text/plain": [
              "            confirmed  ...  residential_percent_change_from_baseline\n",
              "2020-01-22          0  ...                                       NaN\n",
              "2020-01-23          0  ...                                       NaN\n",
              "2020-01-24          0  ...                                       NaN\n",
              "2020-01-25          0  ...                                       NaN\n",
              "2020-01-26          0  ...                                       NaN\n",
              "\n",
              "[5 rows x 7 columns]"
            ]
          },
          "metadata": {
            "tags": []
          },
          "execution_count": 32
        }
      ]
    },
    {
      "cell_type": "code",
      "metadata": {
        "id": "HUafVGLQXiP-",
        "colab_type": "code",
        "colab": {}
      },
      "source": [
        "merged.dropna(inplace=True)"
      ],
      "execution_count": 33,
      "outputs": []
    },
    {
      "cell_type": "code",
      "metadata": {
        "id": "Rcf6SkIdWCVz",
        "colab_type": "code",
        "colab": {
          "base_uri": "https://localhost:8080/",
          "height": 136
        },
        "outputId": "59138001-1f1d-4698-8717-a8ecf0a6385a"
      },
      "source": [
        "merged.columns"
      ],
      "execution_count": 34,
      "outputs": [
        {
          "output_type": "execute_result",
          "data": {
            "text/plain": [
              "Index(['confirmed', 'retail_and_recreation_percent_change_from_baseline',\n",
              "       'grocery_and_pharmacy_percent_change_from_baseline',\n",
              "       'parks_percent_change_from_baseline',\n",
              "       'transit_stations_percent_change_from_baseline',\n",
              "       'workplaces_percent_change_from_baseline',\n",
              "       'residential_percent_change_from_baseline'],\n",
              "      dtype='object')"
            ]
          },
          "metadata": {
            "tags": []
          },
          "execution_count": 34
        }
      ]
    },
    {
      "cell_type": "markdown",
      "metadata": {
        "id": "u5HHiGtJIAG0",
        "colab_type": "text"
      },
      "source": [
        "### Build w/ Keras"
      ]
    },
    {
      "cell_type": "code",
      "metadata": {
        "id": "hPhtFiXdIFSC",
        "colab_type": "code",
        "colab": {}
      },
      "source": [
        "from matplotlib import pyplot\n",
        "import math"
      ],
      "execution_count": 35,
      "outputs": []
    },
    {
      "cell_type": "code",
      "metadata": {
        "id": "azClA6traW-1",
        "colab_type": "code",
        "colab": {
          "base_uri": "https://localhost:8080/",
          "height": 34
        },
        "outputId": "4d2c5dae-f4d0-4866-d5a3-fa3496dd4824"
      },
      "source": [
        "from sklearn.preprocessing import MinMaxScaler\n",
        "from sklearn.preprocessing import LabelEncoder\n",
        "from sklearn.metrics import mean_squared_error\n",
        "from keras.models import Sequential\n",
        "from keras.layers import Dense\n",
        "from keras.layers import LSTM"
      ],
      "execution_count": 36,
      "outputs": [
        {
          "output_type": "stream",
          "text": [
            "Using TensorFlow backend.\n"
          ],
          "name": "stderr"
        }
      ]
    },
    {
      "cell_type": "code",
      "metadata": {
        "id": "oWH-URFjHeMq",
        "colab_type": "code",
        "colab": {
          "base_uri": "https://localhost:8080/",
          "height": 266
        },
        "outputId": "79dd583c-e2b6-445d-e15d-283ffe8af49b"
      },
      "source": [
        "values = merged.values\n",
        "groups = [0, 1, 2, 3, 5, 6]\n",
        "\n",
        "i = 1\n",
        "\n",
        "pyplot.figure()\n",
        "\n",
        "for group in groups:\n",
        "  pyplot.subplot(len(groups), 1, i)\n",
        "  pyplot.plot(values[:, group])\n",
        "  pyplot.title(merged.columns[group], y=0.5, loc='right')\n",
        "  i += 1\n",
        "\n",
        "pyplot.show()"
      ],
      "execution_count": 37,
      "outputs": [
        {
          "output_type": "display_data",
          "data": {
            "image/png": "[encoded data removed]",
            "text/plain": [
              "<Figure size 432x288 with 6 Axes>"
            ]
          },
          "metadata": {
            "tags": [],
            "needs_background": "light"
          }
        }
      ]
    },
    {
      "cell_type": "code",
      "metadata": {
        "id": "s0rpGu_cISJE",
        "colab_type": "code",
        "colab": {}
      },
      "source": [
        "def series_to_supervised(data, n_in=1, n_out=1, dropnan=True):\n",
        "  n_vars = 1 if type(data) is list else data.shape[1]\n",
        "  df = pd.DataFrame(data)\n",
        "  cols, names = list(), list()\n",
        "\n",
        "  # input sequence (t-n, ... t-1)\n",
        "  for i in range(n_in, 0, -1):\n",
        "    cols.append(df.shift(i))\n",
        "    names += [('var%d(t-%d)' % (j+1, i)) for j in range(n_vars)]\n",
        " \n",
        "  # forecast sequence (t, t+1, ... t+n)\n",
        "  for i in range(0, n_out):\n",
        "    cols.append(df.shift(-i))\n",
        "    if i == 0:\n",
        "      names += [('var%d(t)' % (j+1)) for j in range(n_vars)]\n",
        "    else:\n",
        "      names += [('var%d(t+%d)' % (j+1, i)) for j in range(n_vars)]\n",
        "\n",
        "  # put it all together\n",
        "  agg = pd.concat(cols, axis=1)\n",
        "  agg.columns = names\n",
        "\n",
        "  # drop rows with NaN values\n",
        "  if dropnan:\n",
        "    agg.dropna(inplace=True)\n",
        "\n",
        "  return agg"
      ],
      "execution_count": 38,
      "outputs": []
    },
    {
      "cell_type": "code",
      "metadata": {
        "id": "Vu149mlrVrFS",
        "colab_type": "code",
        "colab": {}
      },
      "source": [
        "values = values.astype('float32')\n",
        "\n",
        "scaler = MinMaxScaler(feature_range=(0, 1))\n",
        "scaled = scaler.fit_transform(values)\n",
        "\n",
        "reframed = series_to_supervised(scaled, 1, 1)"
      ],
      "execution_count": 39,
      "outputs": []
    },
    {
      "cell_type": "code",
      "metadata": {
        "id": "EEhl4cgCGIjv",
        "colab_type": "code",
        "colab": {
          "base_uri": "https://localhost:8080/",
          "height": 153
        },
        "outputId": "e311fd7c-57bd-4a91-cf48-cb2792aba60e"
      },
      "source": [
        "# drop columns we don't want to predict\n",
        "#reframed.drop(reframed.columns[[1, 2, 3, 4, 5, 6]], axis=1, inplace=True)\n",
        "print(reframed.head())"
      ],
      "execution_count": 40,
      "outputs": [
        {
          "output_type": "stream",
          "text": [
            "   var1(t-1)  var2(t-1)  var3(t-1)  ...   var5(t)   var6(t)   var7(t)\n",
            "1   0.013423   0.904762   0.541667  ...  0.941860  0.934211  0.028571\n",
            "2   0.013423   0.904762   0.513889  ...  0.767442  0.460526  0.285714\n",
            "3   0.013423   0.940476   0.569444  ...  0.988372  0.921053  0.057143\n",
            "4   0.013423   0.869048   0.597222  ...  1.000000  0.921053  0.028571\n",
            "5   0.013423   0.880952   0.583333  ...  0.965116  0.921053  0.057143\n",
            "\n",
            "[5 rows x 14 columns]\n"
          ],
          "name": "stdout"
        }
      ]
    },
    {
      "cell_type": "code",
      "metadata": {
        "id": "3krTkoyHZi1F",
        "colab_type": "code",
        "colab": {
          "base_uri": "https://localhost:8080/",
          "height": 34
        },
        "outputId": "4b81422b-4ba1-4138-cdb2-170b7fabf295"
      },
      "source": [
        "reframed.shape"
      ],
      "execution_count": 41,
      "outputs": [
        {
          "output_type": "execute_result",
          "data": {
            "text/plain": [
              "(155, 14)"
            ]
          },
          "metadata": {
            "tags": []
          },
          "execution_count": 41
        }
      ]
    },
    {
      "cell_type": "code",
      "metadata": {
        "id": "gn99CUMPWuyt",
        "colab_type": "code",
        "colab": {
          "base_uri": "https://localhost:8080/",
          "height": 34
        },
        "outputId": "31f09f7f-c6d3-48fa-a543-4a512709de83"
      },
      "source": [
        "# 80-20 split\n",
        "values = reframed.values\n",
        "n_train_hours = 124\n",
        "train = values[:n_train_hours, :]\n",
        "test = values[n_train_hours:, :]\n",
        "\n",
        "# split into input and outputs\n",
        "train_X, train_y = train[:, :-1], train[:, -1]\n",
        "test_X, test_y = test[:, :-1], test[:, -1]\n",
        "\n",
        "# reshape input to be 3D [samples, timesteps, features]\n",
        "train_X = train_X.reshape((train_X.shape[0], 1, train_X.shape[1]))\n",
        "test_X = test_X.reshape((test_X.shape[0], 1, test_X.shape[1]))\n",
        "print(train_X.shape, train_y.shape, test_X.shape, test_y.shape)"
      ],
      "execution_count": 43,
      "outputs": [
        {
          "output_type": "stream",
          "text": [
            "(124, 1, 7) (124,) (31, 1, 7) (31,)\n"
          ],
          "name": "stdout"
        }
      ]
    },
    {
      "cell_type": "code",
      "metadata": {
        "id": "lZGDqQ9uZ4R0",
        "colab_type": "code",
        "colab": {
          "base_uri": "https://localhost:8080/",
          "height": 1000
        },
        "outputId": "71ed5d9c-da81-42d7-81e0-f1052c9c2fc6"
      },
      "source": [
        "model = Sequential()\n",
        "model.add(LSTM(50, input_shape=(train_X.shape[1], train_X.shape[2])))\n",
        "model.add(Dense(1))\n",
        "model.compile(loss='mae', optimizer='adam')\n",
        "\n",
        "# fit network\n",
        "history = model.fit(train_X, train_y, epochs=50, batch_size=72, validation_data=(test_X, test_y), verbose=2, shuffle=False)"
      ],
      "execution_count": 46,
      "outputs": [
        {
          "output_type": "stream",
          "text": [
            "Train on 124 samples, validate on 31 samples\n",
            "Epoch 1/50\n",
            " - 0s - loss: 0.4808 - val_loss: 0.2647\n",
            "Epoch 2/50\n",
            " - 0s - loss: 0.4727 - val_loss: 0.2545\n",
            "Epoch 3/50\n",
            " - 0s - loss: 0.4650 - val_loss: 0.2437\n",
            "Epoch 4/50\n",
            " - 0s - loss: 0.4569 - val_loss: 0.2335\n",
            "Epoch 5/50\n",
            " - 0s - loss: 0.4487 - val_loss: 0.2238\n",
            "Epoch 6/50\n",
            " - 0s - loss: 0.4407 - val_loss: 0.2150\n",
            "Epoch 7/50\n",
            " - 0s - loss: 0.4328 - val_loss: 0.2070\n",
            "Epoch 8/50\n",
            " - 0s - loss: 0.4250 - val_loss: 0.1994\n",
            "Epoch 9/50\n",
            " - 0s - loss: 0.4172 - val_loss: 0.1921\n",
            "Epoch 10/50\n",
            " - 0s - loss: 0.4093 - val_loss: 0.1861\n",
            "Epoch 11/50\n",
            " - 0s - loss: 0.4015 - val_loss: 0.1817\n",
            "Epoch 12/50\n",
            " - 0s - loss: 0.3937 - val_loss: 0.1776\n",
            "Epoch 13/50\n",
            " - 0s - loss: 0.3861 - val_loss: 0.1736\n",
            "Epoch 14/50\n",
            " - 0s - loss: 0.3786 - val_loss: 0.1695\n",
            "Epoch 15/50\n",
            " - 0s - loss: 0.3711 - val_loss: 0.1655\n",
            "Epoch 16/50\n",
            " - 0s - loss: 0.3639 - val_loss: 0.1615\n",
            "Epoch 17/50\n",
            " - 0s - loss: 0.3568 - val_loss: 0.1575\n",
            "Epoch 18/50\n",
            " - 0s - loss: 0.3498 - val_loss: 0.1536\n",
            "Epoch 19/50\n",
            " - 0s - loss: 0.3428 - val_loss: 0.1498\n",
            "Epoch 20/50\n",
            " - 0s - loss: 0.3357 - val_loss: 0.1459\n",
            "Epoch 21/50\n",
            " - 0s - loss: 0.3286 - val_loss: 0.1421\n",
            "Epoch 22/50\n",
            " - 0s - loss: 0.3214 - val_loss: 0.1383\n",
            "Epoch 23/50\n",
            " - 0s - loss: 0.3141 - val_loss: 0.1344\n",
            "Epoch 24/50\n",
            " - 0s - loss: 0.3067 - val_loss: 0.1305\n",
            "Epoch 25/50\n",
            " - 0s - loss: 0.2993 - val_loss: 0.1270\n",
            "Epoch 26/50\n",
            " - 0s - loss: 0.2925 - val_loss: 0.1248\n",
            "Epoch 27/50\n",
            " - 0s - loss: 0.2860 - val_loss: 0.1237\n",
            "Epoch 28/50\n",
            " - 0s - loss: 0.2794 - val_loss: 0.1228\n",
            "Epoch 29/50\n",
            " - 0s - loss: 0.2727 - val_loss: 0.1224\n",
            "Epoch 30/50\n",
            " - 0s - loss: 0.2662 - val_loss: 0.1222\n",
            "Epoch 31/50\n",
            " - 0s - loss: 0.2596 - val_loss: 0.1236\n",
            "Epoch 32/50\n",
            " - 0s - loss: 0.2532 - val_loss: 0.1248\n",
            "Epoch 33/50\n",
            " - 0s - loss: 0.2470 - val_loss: 0.1260\n",
            "Epoch 34/50\n",
            " - 0s - loss: 0.2409 - val_loss: 0.1276\n",
            "Epoch 35/50\n",
            " - 0s - loss: 0.2355 - val_loss: 0.1299\n",
            "Epoch 36/50\n",
            " - 0s - loss: 0.2304 - val_loss: 0.1327\n",
            "Epoch 37/50\n",
            " - 0s - loss: 0.2257 - val_loss: 0.1357\n",
            "Epoch 38/50\n",
            " - 0s - loss: 0.2209 - val_loss: 0.1389\n",
            "Epoch 39/50\n",
            " - 0s - loss: 0.2163 - val_loss: 0.1423\n",
            "Epoch 40/50\n",
            " - 0s - loss: 0.2119 - val_loss: 0.1455\n",
            "Epoch 41/50\n",
            " - 0s - loss: 0.2075 - val_loss: 0.1483\n",
            "Epoch 42/50\n",
            " - 0s - loss: 0.2033 - val_loss: 0.1506\n",
            "Epoch 43/50\n",
            " - 0s - loss: 0.1991 - val_loss: 0.1523\n",
            "Epoch 44/50\n",
            " - 0s - loss: 0.1948 - val_loss: 0.1534\n",
            "Epoch 45/50\n",
            " - 0s - loss: 0.1913 - val_loss: 0.1535\n",
            "Epoch 46/50\n",
            " - 0s - loss: 0.1879 - val_loss: 0.1525\n",
            "Epoch 47/50\n",
            " - 0s - loss: 0.1845 - val_loss: 0.1508\n",
            "Epoch 48/50\n",
            " - 0s - loss: 0.1810 - val_loss: 0.1483\n",
            "Epoch 49/50\n",
            " - 0s - loss: 0.1776 - val_loss: 0.1451\n",
            "Epoch 50/50\n",
            " - 0s - loss: 0.1743 - val_loss: 0.1411\n"
          ],
          "name": "stdout"
        }
      ]
    },
    {
      "cell_type": "code",
      "metadata": {
        "id": "2kF7yXS5aQRo",
        "colab_type": "code",
        "colab": {
          "base_uri": "https://localhost:8080/",
          "height": 265
        },
        "outputId": "19e5e54e-8967-44b1-99ae-64390c590685"
      },
      "source": [
        "# plot history\n",
        "pyplot.plot(history.history['loss'], label='train')\n",
        "pyplot.plot(history.history['val_loss'], label='test')\n",
        "pyplot.legend()\n",
        "pyplot.show()"
      ],
      "execution_count": 47,
      "outputs": [
        {
          "output_type": "display_data",
          "data": {
            "image/png": "[encoded data removed]",
            "text/plain": [
              "<Figure size 432x288 with 1 Axes>"
            ]
          },
          "metadata": {
            "tags": [],
            "needs_background": "light"
          }
        }
      ]
    },
    {
      "cell_type": "code",
      "metadata": {
        "id": "_edK6Ht4ajEN",
        "colab_type": "code",
        "colab": {}
      },
      "source": [
        "yhat = model.predict(test_X)\n",
        "test_X = test_X.reshape((test_X.shape[0], test_X.shape[2]))"
      ],
      "execution_count": 48,
      "outputs": []
    },
    {
      "cell_type": "code",
      "metadata": {
        "id": "pGYQ7szheRsd",
        "colab_type": "code",
        "colab": {}
      },
      "source": [
        "# invert scaling for forecast\n",
        "inv_yhat = np.concatenate((yhat, test_X[:, 1:]), axis=1)\n",
        "inv_yhat = scaler.inverse_transform(inv_yhat)\n",
        "inv_yhat = inv_yhat[:,0]"
      ],
      "execution_count": 49,
      "outputs": []
    },
    {
      "cell_type": "code",
      "metadata": {
        "id": "ckOgrrS4eVsT",
        "colab_type": "code",
        "colab": {}
      },
      "source": [
        "# invert scaling for actual\n",
        "test_y = test_y.reshape((len(test_y), 1))\n",
        "inv_y = np.concatenate((test_y, test_X[:, 1:]), axis=1)\n",
        "inv_y = scaler.inverse_transform(inv_y)\n",
        "inv_y = inv_y[:,0]"
      ],
      "execution_count": 50,
      "outputs": []
    },
    {
      "cell_type": "code",
      "metadata": {
        "id": "JXc2YatAajMg",
        "colab_type": "code",
        "colab": {
          "base_uri": "https://localhost:8080/",
          "height": 34
        },
        "outputId": "0079574c-810d-466b-9293-5a39abc39e43"
      },
      "source": [
        "# calculate RMSE\n",
        "rmse = math.sqrt(mean_squared_error(inv_y, inv_yhat))\n",
        "print('Test RMSE: %.3f' % rmse)"
      ],
      "execution_count": 54,
      "outputs": [
        {
          "output_type": "stream",
          "text": [
            "Test RMSE: 112.142\n"
          ],
          "name": "stdout"
        }
      ]
    },
    {
      "cell_type": "markdown",
      "metadata": {
        "id": "xJV3xGpWijgG",
        "colab_type": "text"
      },
      "source": [
        "### Build w/ Tensorflow"
      ]
    },
    {
      "cell_type": "code",
      "metadata": {
        "id": "WD8Kl_pYiqao",
        "colab_type": "code",
        "colab": {}
      },
      "source": [
        "features_considered = ['retail_and_recreation_percent_change_from_baseline',\n",
        "                       'grocery_and_pharmacy_percent_change_from_baseline',\n",
        "                       'parks_percent_change_from_baseline',\n",
        "                       'transit_stations_percent_change_from_baseline',\n",
        "                       'workplaces_percent_change_from_baseline',\n",
        "                       'residential_percent_change_from_baseline']"
      ],
      "execution_count": 43,
      "outputs": []
    },
    {
      "cell_type": "code",
      "metadata": {
        "id": "qWV4M0kEi-nD",
        "colab_type": "code",
        "colab": {}
      },
      "source": [
        "features = merged[features_considered]\n",
        "features.index = merged.index\n",
        "features.head()"
      ],
      "execution_count": null,
      "outputs": []
    },
    {
      "cell_type": "code",
      "metadata": {
        "id": "bpZ0OyMyjbhm",
        "colab_type": "code",
        "colab": {
          "base_uri": "https://localhost:8080/",
          "height": 384
        },
        "outputId": "1b10cad8-aed9-4fc9-c7e2-8ed90c56b9ec"
      },
      "source": [
        "features.plot(subplots=True)"
      ],
      "execution_count": 45,
      "outputs": [
        {
          "output_type": "execute_result",
          "data": {
            "text/plain": [
              "array([<matplotlib.axes._subplots.AxesSubplot object at 0x7f4114d8e198>,\n",
              "       <matplotlib.axes._subplots.AxesSubplot object at 0x7f4114d39470>,\n",
              "       <matplotlib.axes._subplots.AxesSubplot object at 0x7f4114cea470>,\n",
              "       <matplotlib.axes._subplots.AxesSubplot object at 0x7f4114d1b470>,\n",
              "       <matplotlib.axes._subplots.AxesSubplot object at 0x7f4114cd1470>,\n",
              "       <matplotlib.axes._subplots.AxesSubplot object at 0x7f4114c86470>],\n",
              "      dtype=object)"
            ]
          },
          "metadata": {
            "tags": []
          },
          "execution_count": 45
        },
        {
          "output_type": "display_data",
          "data": {
            "image/png": "[encoded data removed]",
            "text/plain": [
              "<Figure size 432x288 with 6 Axes>"
            ]
          },
          "metadata": {
            "tags": [],
            "needs_background": "light"
          }
        }
      ]
    },
    {
      "cell_type": "code",
      "metadata": {
        "id": "zJbQJaqrjquc",
        "colab_type": "code",
        "colab": {}
      },
      "source": [
        "TRAIN_SPLIT = 124"
      ],
      "execution_count": 46,
      "outputs": []
    },
    {
      "cell_type": "code",
      "metadata": {
        "id": "A4Ca-WtKiqgL",
        "colab_type": "code",
        "colab": {}
      },
      "source": [
        "dataset = features.values\n",
        "data_mean = dataset[:TRAIN_SPLIT].mean(axis=0)\n",
        "data_std = dataset[:TRAIN_SPLIT].std(axis=0)"
      ],
      "execution_count": 47,
      "outputs": []
    },
    {
      "cell_type": "code",
      "metadata": {
        "id": "Y7hnCidZjuGt",
        "colab_type": "code",
        "colab": {}
      },
      "source": [
        "dataset = (dataset-data_mean)/data_std"
      ],
      "execution_count": 48,
      "outputs": []
    },
    {
      "cell_type": "code",
      "metadata": {
        "id": "zZElbs-3lZz1",
        "colab_type": "code",
        "colab": {
          "base_uri": "https://localhost:8080/",
          "height": 34
        },
        "outputId": "c09f661f-e91b-452a-bfa8-a00bcdd4f3c5"
      },
      "source": [
        "dataset.shape"
      ],
      "execution_count": 50,
      "outputs": [
        {
          "output_type": "execute_result",
          "data": {
            "text/plain": [
              "(156, 6)"
            ]
          },
          "metadata": {
            "tags": []
          },
          "execution_count": 50
        }
      ]
    },
    {
      "cell_type": "code",
      "metadata": {
        "id": "m-WOHW9MjuKj",
        "colab_type": "code",
        "colab": {}
      },
      "source": [
        "def multivariate_data(dataset, target, start_index, end_index, history_size, target_size, step, single_step=False):\n",
        "  data = []\n",
        "  labels = []\n",
        "\n",
        "  start_index = start_index + history_size\n",
        "  if end_index is None:\n",
        "    end_index = len(dataset) - target_size\n",
        "\n",
        "  for i in range(start_index, end_index):\n",
        "    indices = range(i-history_size, i, step)\n",
        "    data.append(dataset[indices])\n",
        "\n",
        "    if single_step:\n",
        "      labels.append(target[i+target_size])\n",
        "    else:\n",
        "      labels.append(target[i:i+target_size])\n",
        "\n",
        "  return np.array(data), np.array(labels)"
      ],
      "execution_count": 49,
      "outputs": []
    },
    {
      "cell_type": "code",
      "metadata": {
        "id": "MhI3d7zlj8q0",
        "colab_type": "code",
        "colab": {}
      },
      "source": [
        "past_history = 0\n",
        "future_target = 32\n",
        "STEP = 1"
      ],
      "execution_count": 52,
      "outputs": []
    },
    {
      "cell_type": "code",
      "metadata": {
        "id": "7I-GL6jdleoM",
        "colab_type": "code",
        "colab": {}
      },
      "source": [
        "x_train_single, y_train_single = multivariate_data(dataset, dataset[:, 1], 0, TRAIN_SPLIT, past_history, future_target, STEP, single_step=True)\n",
        "x_val_single, y_val_single = multivariate_data(dataset, dataset[:, 1], TRAIN_SPLIT, None, past_history, future_target, STEP, single_step=True)"
      ],
      "execution_count": 53,
      "outputs": []
    }
  ]
}